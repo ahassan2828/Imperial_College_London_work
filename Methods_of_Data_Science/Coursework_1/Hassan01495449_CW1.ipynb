{
 "cells": [
  {
   "cell_type": "markdown",
   "metadata": {
    "id": "4xHSx8l1tUYN"
   },
   "source": [
    "<a name=\"outline\"></a>\n",
    "\n",
    "## Outline\n",
    "\n",
    "- [Task 1](#task-1): Regression\n",
    "  - [1.1](#q11) Linear regression\n",
    "  - [1.2](#q12) Ridge regression\n",
    "  - [1.3](#q13) Relaxation of Lasso regression\n",
    "- [Task 2](#task-2): Classification\n",
    "  - [2.1](#q21) kNN classifier\n",
    "  - [2.2](#q22) Random forest \n",
    "  - [2.3](#q23) Support vector machine (SVM) \n",
    "- [Task 3](#task-3): Mastery component \n",
    "  - [3.1](#q31) Logistic regression and bagging \n",
    "  - [3.2](#q32) Kernelised SVM classifier "
   ]
  },
  {
   "cell_type": "markdown",
   "metadata": {
    "id": "J3sSxTA3yzhN"
   },
   "source": [
    "<a name=\"task-1\"></a>\n",
    "# Task 1: Regression [^](#outline)\n",
    "\n"
   ]
  },
  {
   "cell_type": "markdown",
   "metadata": {
    "id": "1gY8lFgnyzsF"
   },
   "source": [
    "<a name=\"q11\"></a>\n",
    "\n",
    "## 1.1  [^](#outline) Linear regression\n",
    "\n"
   ]
  },
  {
   "cell_type": "markdown",
   "metadata": {},
   "source": [
    "The linear regression model is formulated in the follow manner.\n",
    "\n",
    "Let $Y=(Y_1,...,Y_n)^T$ and $ε=(ε_1,...,ε_n)$\n",
    "\n",
    "Here $β = (β_1, . . . , β_p)$ and $X=(X_{i,j})$ the $nxp$ matrix containing the values of $X_{i,j}$ values of X on the ith individual and jth variable.\n",
    "\n",
    "The linear model can be summarised as:\n",
    "\n",
    "$$Y=Xβ+ε$$\n",
    "\n",
    "We assume here that  $ε$ is a n-vector of IID random variables with 0 mean and variance $\\sigma^2$.\n",
    "\n",
    "In my code below i use the least squares method for parameter estimation and inference in linear regression.\n",
    "\n",
    "The aim is to minimise the residual term $e = Y-Xβ$\n",
    "\n",
    "The least squares estimator is $\\hat{β} = argmin_β RSS(\\beta)$, where $RSS(\\beta)=e^Te$.\n",
    "\n",
    "The fitted model will be $\\hat{Y}=X\\hat{β}_{LS}$. We seek to minimise:\n",
    "\n",
    "$$RSS(\\beta)= (Y − Xβ)^{T}(Y − Xβ) \\\\\n",
    "= Y^{T}Y − (Xβ)^{T} Y − Y^{T} Xβ + (Xβ)^{T} Xβ \\\\\n",
    "= Y^{T} Y − 2βT X^{T} Y + β^{T} X^{T} Xβ$$\n",
    "\n",
    "Diffrentiating the above w.r.t to $\\beta$\n",
    "\n",
    "$\\frac{∂RSS(\\beta)}{∂\\beta}=  −2X^{T} Y + 2X^{T} Xβ$ \n",
    "\n",
    "Setting the above to zero we can compute the value of $\\hat{\\beta}$\n",
    "\n",
    "$$\\implies \\hat{\\beta}_{LS}=(X^{T} X)^{-1} X^{T} Y$$\n",
    "\n",
    "Since $\\frac{∂^{2}RSS(\\beta)}{∂{\\beta}∂{\\beta^{T}}}= 2X^{T} X$, this is positive definite (since $X^{T}X$ is invertible) and hence, we have a minimum point.\n",
    "\n",
    "Its important to note least squares assumes all independent variables are uncorrelated with the error term."
   ]
  },
  {
   "cell_type": "markdown",
   "metadata": {},
   "source": [
    "### 1.1.1 \n",
    "In this section I will use the data set chemistry_samples.csv to to acquire a linear regression model to predict the toxicity factor LC50 feature as the target variable using all the other features. "
   ]
  },
  {
   "cell_type": "code",
   "execution_count": 49,
   "metadata": {},
   "outputs": [],
   "source": [
    "#importing useful packages\n",
    "import pandas as pd\n",
    "import numpy as np\n",
    "import matplotlib.pyplot as plt\n",
    "np.random.seed(333) # set seed results are reproducible and numbers used in conclusions don't change\n",
    "import datetime"
   ]
  },
  {
   "cell_type": "code",
   "execution_count": 50,
   "metadata": {},
   "outputs": [],
   "source": [
    "df1= pd.read_csv('chemistry_samples.csv') #reading in file to train\n",
    "\n",
    "X = df1.iloc[:,:-1] # seperating the features used in prediction \n",
    "y = df1.iloc[:,-1] # seperating target variable toxicity factor LC50\n",
    "\n",
    "N, D = X.shape \n",
    "X_aug = np.hstack([np.ones((N,1)), X]) # augmented training inputs to allow linear regression model non-zero intercept"
   ]
  },
  {
   "cell_type": "code",
   "execution_count": 51,
   "metadata": {
    "scrolled": false
   },
   "outputs": [
    {
     "data": {
      "text/html": [
       "<div>\n",
       "<style scoped>\n",
       "    .dataframe tbody tr th:only-of-type {\n",
       "        vertical-align: middle;\n",
       "    }\n",
       "\n",
       "    .dataframe tbody tr th {\n",
       "        vertical-align: top;\n",
       "    }\n",
       "\n",
       "    .dataframe thead th {\n",
       "        text-align: right;\n",
       "    }\n",
       "</style>\n",
       "<table border=\"1\" class=\"dataframe\">\n",
       "  <thead>\n",
       "    <tr style=\"text-align: right;\">\n",
       "      <th></th>\n",
       "      <th>0</th>\n",
       "      <th>1</th>\n",
       "      <th>2</th>\n",
       "      <th>3</th>\n",
       "      <th>4</th>\n",
       "      <th>5</th>\n",
       "      <th>6</th>\n",
       "      <th>7</th>\n",
       "      <th>8</th>\n",
       "      <th>9</th>\n",
       "      <th>10</th>\n",
       "    </tr>\n",
       "  </thead>\n",
       "  <tbody>\n",
       "    <tr>\n",
       "      <th>Features</th>\n",
       "      <td>intercept</td>\n",
       "      <td>CIC0</td>\n",
       "      <td>SM1_Dz(Z)</td>\n",
       "      <td>GATS1i</td>\n",
       "      <td>NdsCH</td>\n",
       "      <td>NdssC</td>\n",
       "      <td>MLOGP</td>\n",
       "      <td>FV1</td>\n",
       "      <td>VFV</td>\n",
       "      <td>FV2</td>\n",
       "      <td>FV3</td>\n",
       "    </tr>\n",
       "    <tr>\n",
       "      <th>Values estimated for linear regression</th>\n",
       "      <td>2.61638</td>\n",
       "      <td>0.044714</td>\n",
       "      <td>1.258719</td>\n",
       "      <td>-0.038009</td>\n",
       "      <td>0.363073</td>\n",
       "      <td>0.004665</td>\n",
       "      <td>0.39051</td>\n",
       "      <td>-0.074603</td>\n",
       "      <td>-0.035707</td>\n",
       "      <td>-0.015259</td>\n",
       "      <td>-0.001803</td>\n",
       "    </tr>\n",
       "  </tbody>\n",
       "</table>\n",
       "</div>"
      ],
      "text/plain": [
       "                                               0         1          2   \\\n",
       "Features                                intercept      CIC0  SM1_Dz(Z)   \n",
       "Values estimated for linear regression    2.61638  0.044714   1.258719   \n",
       "\n",
       "                                              3         4         5        6   \\\n",
       "Features                                  GATS1i     NdsCH     NdssC    MLOGP   \n",
       "Values estimated for linear regression -0.038009  0.363073  0.004665  0.39051   \n",
       "\n",
       "                                              7         8         9         10  \n",
       "Features                                     FV1       VFV       FV2       FV3  \n",
       "Values estimated for linear regression -0.074603 -0.035707 -0.015259 -0.001803  "
      ]
     },
     "execution_count": 51,
     "metadata": {},
     "output_type": "execute_result"
    }
   ],
   "source": [
    "def linear_regression_estimate(X, y):\n",
    "    # X: N x D matrix of training inputs\n",
    "    # y: N x 1 vector of training targets/observations\n",
    "    # returns: least squares parameters (D x 1)\n",
    "    \n",
    "    N, D = X.shape\n",
    "    beta_lr = np.linalg.solve(X.T @ X, X.T @ y) #working out beta hat\n",
    "    return beta_lr\n",
    "\n",
    "beta_aug_lr = linear_regression_estimate(X_aug, y) # model parameters obtained from linear regression on training set\n",
    "\n",
    "# Below we display the model paramenters with their corresponding feature names\n",
    "pd.DataFrame({'Features' : ['intercept']+list(X.columns.values), 'Values estimated for linear regression':beta_aug_lr}).T "
   ]
  },
  {
   "cell_type": "markdown",
   "metadata": {},
   "source": [
    "The $\\hat{\\beta}$ obtained through least squares estimation is printed above. When the feature above increases by 1 unit, the toxicity factor LC50 will change with the corresponding amount to the feature in the table above. "
   ]
  },
  {
   "cell_type": "code",
   "execution_count": 52,
   "metadata": {},
   "outputs": [],
   "source": [
    "def predict_with_estimate(X_test, beta):\n",
    "    # X_test: K x D matrix of test inputs\n",
    "    # beta: D x 1 vector of parameters\n",
    "    # returns: prediction of f(X_test); K x 1 vector\n",
    "    \n",
    "    prediction = X_test @ beta #working out y hat\n",
    "    return prediction \n",
    "\n",
    "# predict the function values at the train points using the least squares estimator\n",
    "lr_prediction = predict_with_estimate(X_aug, beta_aug_lr)"
   ]
  },
  {
   "cell_type": "markdown",
   "metadata": {},
   "source": [
    "Below I will be calculating the $R^{2}$ score, which is defined as:\n",
    "$$R^{2}=1-\\frac{\\sum_{i}(y_{i}-\\hat{y_i})}{\\sum_{i}(y_{i}-\\bar{y})}$$\n",
    "\n",
    "This is a value between 0 and 1 that measures how well the regression line fits our data. It can be interpreted as the percent of variance in our dependent variable that can be explained by our model."
   ]
  },
  {
   "cell_type": "code",
   "execution_count": 53,
   "metadata": {},
   "outputs": [],
   "source": [
    "def r_square(y, y_hat):\n",
    "    'This function calculates the R^2 score' \n",
    "    return 1 - (sum((y-y_hat)**2)/sum((y-np.mean(y))**2))"
   ]
  },
  {
   "cell_type": "code",
   "execution_count": 54,
   "metadata": {},
   "outputs": [
    {
     "name": "stdout",
     "output_type": "stream",
     "text": [
      "The in-sample R^2 score for my linear regression model is  0.8718259975718017\n"
     ]
    }
   ],
   "source": [
    "r_square_score = r_square(y, lr_prediction) #in-sample r^2 score\n",
    "print('The in-sample R^2 score for my linear regression model is ',r_square_score)"
   ]
  },
  {
   "cell_type": "markdown",
   "metadata": {},
   "source": [
    "Our model explains about 87.2% of the variance in our target variable 'toxicity factor LC50' in the insample case. This is quite low."
   ]
  },
  {
   "cell_type": "markdown",
   "metadata": {},
   "source": [
    "### 1.1.2 \n",
    "In this section I will apply my linear regression model to the test data to predict the target toxicity factor LC50. Then I will compute the out-of-sample $R^{2}$ score. "
   ]
  },
  {
   "cell_type": "code",
   "execution_count": 55,
   "metadata": {},
   "outputs": [],
   "source": [
    "df2= pd.read_csv('chemistry_test.csv') #storing test set as dataframe\n",
    "\n",
    "X_test = df2.iloc[:,:-1] # seperating the features used in prediction \n",
    "y_test = df2.iloc[:,-1] # seperating target variable toxicity factor LC50\n",
    "\n",
    "# define a test set (we also need to augment the test inputs with ones)\n",
    "X_test_aug = np.hstack([np.ones((X_test.shape[0],1)), X_test]) # 100 x (D + 1) vector of test inputs\n",
    "\n",
    "# predict the function values at the test points using the least squares estimator\n",
    "lr_prediction = predict_with_estimate(X_test_aug, beta_aug_lr)"
   ]
  },
  {
   "cell_type": "code",
   "execution_count": 56,
   "metadata": {
    "scrolled": true
   },
   "outputs": [
    {
     "name": "stdout",
     "output_type": "stream",
     "text": [
      "The out of sample R^2 score for my linear regression model is  0.8642933369927277\n"
     ]
    }
   ],
   "source": [
    "r_square_score = r_square(y_test, lr_prediction) #out-sample r^2 score\n",
    "print('The out of sample R^2 score for my linear regression model is ', r_square_score)"
   ]
  },
  {
   "cell_type": "markdown",
   "metadata": {},
   "source": [
    "Our model explains about 86.4% of the variance in our target variable 'toxicity factor LC50' in out-of-sample case. This is similar to the in-sample case, however just a percentage point lower. This is normal as it's natural for our model to be better fitting the training set than the test set as it was trained on teh training set. The fact that the $R^2$ scores are so similar suggests that the model is generalisable and is not overfitting or underfitting to the training set."
   ]
  },
  {
   "cell_type": "markdown",
   "metadata": {
    "id": "gpbJPhupy0Cj"
   },
   "source": [
    "<a name=\"q12\"></a>\n",
    "## 1.2 [^](#outline) Ridge regression\n",
    "\n",
    "Ridge regression is a penalised least squares optimisation problem. The Ridge estimator is: \n",
    "\n",
    "$$\\hat{\\beta}_{ridge}(\\lambda)=argmin_{\\beta}\\left\\{\\underbrace{\\sum_{i=1}^{n}\\left( Y_i - \\beta_0 - \\sum_{j=1}^{p} X_{i,j} \\beta_{j} \\right) ^{2}+\\lambda \\sum_{j=1}^{p}\\beta_{j}^2}_\\text{$=Cost_{Ridge}(\\beta)$}\\right\\}$$\n",
    "\n",
    "The purpose of the penalty is get a good fit and also to reduce the overall size of the elements of $\\beta$. We will try to obtain a $\\lambda$ that strikes a balance between quality of fit and the size of coefficients.\n",
    "\n",
    "Ridge regresison is better than the least squares when the independent variables are highly correlated. When independent variables are higly correlated, the entries of $(X^{T}X)^{-1}$ becomes very large. Making the $\\hat{\\beta}_{LS}$ entries unreasonably large.\n",
    "\n",
    "So in Ridge Regression we minimise:\n",
    "$RSS(\\beta) = (Y-X \\beta)^{T}(Y-X \\beta) + \\lambda \\beta^{T} \\beta$\n",
    "\n",
    "$\\frac{∂RSS(\\beta)}{∂\\beta}=  −2X^{T} Y + 2X^{T} Xβ +2 \\lambda \\beta$ \n",
    "\n",
    "Setting equal to 0 and solving for $\\hat{\\beta}_{ridge}$, we get \n",
    "\n",
    "$$\\hat{\\beta}_{ridge} = (X^{T}X+\\lambda I_p)^{-1}X^{T}Y \\space \\space    (*)$$"
   ]
  },
  {
   "cell_type": "markdown",
   "metadata": {},
   "source": [
    "### 1.2.1\n",
    "In this section, I will be employing Ridge regression with 5-fold cross-validation to tune the penalty hyper-parameter of the model.\n",
    "\n",
    "Note: Cross-validation is a method that aims to control the complexity of the model, to help us decide on the balance between accuracy and generalisability.\n",
    "\n",
    "This approach involves randomly dividing the X training set into k groups, or folds, of approximately equal size. The first fold is treated as a validation set, and the method is fit on the remaining k−1 folds. We acquire the mean evaluation score to estimate how the model is expected to perform in general when used to make predictions on data not used during the training of the model."
   ]
  },
  {
   "cell_type": "code",
   "execution_count": 57,
   "metadata": {},
   "outputs": [],
   "source": [
    "y_train = y.to_numpy() #coverting dataframe to numpy to get rid of feature names.\n",
    "\n",
    "p = np.random.permutation(len(y)) # generate a random permutation \n",
    "X_aug = X_aug[p] # shuffling the rows in X by applying generated permutation\n",
    "y_train = y_train[p] # shuffling the rows in y by applying generated permutation\n",
    "\n",
    "# Now we have a list of five index arrays, each correspond to one of the five folds.\n",
    "folds_indexes = np.array_split(np.arange(len(y_train)), 5)"
   ]
  },
  {
   "cell_type": "markdown",
   "metadata": {},
   "source": [
    "In the above cell I shuffle the rows of my training data, this helps prevent model overfitiing by ensuring that the validation sets in 5-fold cross-validation are more representative of the entire dataset."
   ]
  },
  {
   "cell_type": "code",
   "execution_count": 58,
   "metadata": {},
   "outputs": [],
   "source": [
    "def predict(X_train, y_train, X_test, penalty):\n",
    "    # X_train: N x (D+1) matrix of training inputs\n",
    "    # y_train: N x 1 vector of training targets/observations\n",
    "    # X_test: N x (D+1) matrix of test inputs\n",
    "    # returns: ridge regression parameters (D x 1)\n",
    "    \n",
    "    N_aug, D_aug = X_train.shape\n",
    "    I = np.identity(D_aug) #produces (D+1)x(D+1) identity matrix \n",
    "    beta_ridge = np.linalg.solve(X_train.T @ X_train + penalty * I, X_train.T @ y_train) # computes beta_ridge\n",
    "    y_pred = X_test @ beta_ridge # computes predictions X*beta_ridge\n",
    "    \n",
    "    return y_pred, beta_ridge\n",
    "\n",
    "\n",
    "def score(X_train, y_train, X_test, y_test, penalty):\n",
    "  y_pred, beta_ridge = predict(X_train, y_train, X_test, penalty=penalty) \n",
    "  return np.mean((y_test-y_pred)**2) #calculates MSE of our predictions with the true values \n",
    "\n",
    "\n",
    "def cross_validation_score(X_train, y_train, folds, penalty):\n",
    "  scores = []\n",
    "  for i in range(len(folds)):\n",
    "        val_indexes = folds[i] #indexes of validation set data points\n",
    "        train_indexes = list(set(range(y_train.shape[0])) - set(val_indexes)) # index of training data after removing validation data\n",
    "        # defining training set for current fold\n",
    "        X_train_i = X_train[train_indexes, :]\n",
    "        y_train_i = y_train[train_indexes]\n",
    "        # defining validation set for current fold\n",
    "        X_val_i = X_train[val_indexes, :] \n",
    "        y_val_i = y_train[val_indexes] \n",
    "\n",
    "        score_i = score(X_train_i, y_train_i, X_val_i, y_val_i, penalty) #returns MSE\n",
    "        scores.append(score_i)\n",
    "\n",
    "  # Return the average score\n",
    "  return sum(scores)/len(scores) #returns average MSE accross all validation sets for a specific penalty\n",
    "\n",
    "def choose_best_penalty(X_train, y_train, folds, penalty_range):\n",
    "  penalty_scores = np.zeros((len(penalty_range),))\n",
    "  \n",
    "  for i, penalty in enumerate(penalty_range):\n",
    "    penalty_scores[i] = cross_validation_score(X_train, y_train, folds, penalty=penalty)\n",
    "\n",
    "  best_penalty_index = np.argmin(penalty_scores) #selects penalty index producing smallest MSE\n",
    "  return penalty_range[best_penalty_index], penalty_scores"
   ]
  },
  {
   "cell_type": "code",
   "execution_count": 59,
   "metadata": {
    "scrolled": true
   },
   "outputs": [
    {
     "name": "stdout",
     "output_type": "stream",
     "text": [
      "Best penalty for ridge regression is  0.04452776388194098\n"
     ]
    }
   ],
   "source": [
    "penalty_range = np.linspace(0.0001,0.1, 2000) # define penalty range over which to optimise \n",
    "best_penalty, penalty_scores = choose_best_penalty(X_aug, y_train, folds_indexes, penalty_range)\n",
    "\n",
    "print('Best penalty for ridge regression is ', best_penalty)"
   ]
  },
  {
   "cell_type": "code",
   "execution_count": 60,
   "metadata": {},
   "outputs": [
    {
     "data": {
      "image/png": "[encoded data removed]",
      "text/plain": [
       "<Figure size 864x576 with 1 Axes>"
      ]
     },
     "metadata": {
      "needs_background": "light"
     },
     "output_type": "display_data"
    }
   ],
   "source": [
    "#MSE plot\n",
    "plt.figure(figsize=(12,8))\n",
    "plt.plot(penalty_range, penalty_scores);\n",
    "plt.ylabel('MSE', size=20)\n",
    "plt.title('Penalty performance for Ridge regression', size=20);\n",
    "plt.xlabel('penalty hyper-parameter, λ', size=20);"
   ]
  },
  {
   "cell_type": "markdown",
   "metadata": {},
   "source": [
    "From the graph above we can see that our best penalty infact produces the minimum mean squared error. Since $MSE = Variance - Bias^2$, our best penalty strikes a balance between the bias and variance. "
   ]
  },
  {
   "cell_type": "markdown",
   "metadata": {},
   "source": [
    "The MSE is first decreasing. A small λ makes the ridge estimator close to the unbiased linear regression estimator, making the bias go to 0. Hence increasing λ increases the bias.\n",
    "\n",
    "Adding the λ to the diagonal in $\\hat{\\beta}_{ridge} = (X^{T}X+\\lambda I_p)^{-1}X^{T}Y$ makes the $X^{T} X$ matrix more invertible. Hence increasing λ decreases the reduces the variability in estimated coefficients.\n",
    "\n",
    "The decrease in variance of the ridge regression estimator exceeds the increase in its bias for small λ hence the MSE is decreasing. Eventually the increase in bias exceeds the decrease in varaince leading to an increase in MSE.  "
   ]
  },
  {
   "cell_type": "markdown",
   "metadata": {},
   "source": [
    "The above is inline with the results of the derivations of bias and variance in the lecture notes where the resulted equations showed:\n",
    "\n",
    "-λ $\\rightarrow$ 0, bias $\\rightarrow$ to 0 and variance tends to $\\rightarrow$ $\\sigma^2$.\n",
    "\n",
    "-λ $\\rightarrow$ $\\inf$, bias $\\rightarrow$ to $-\\beta$ and variance tends to $\\rightarrow$ 0."
   ]
  },
  {
   "cell_type": "markdown",
   "metadata": {},
   "source": [
    "Note: it is comforting to get a convex curve as in the lecture notes it is mentioned that \"MSE is a convex quadratic function in the space of parameters\" and some dicussion of this is also included."
   ]
  },
  {
   "cell_type": "markdown",
   "metadata": {},
   "source": [
    "### 1.2.2\n",
    "In this section I will carry out Ridge regression using my optimal penalty and then work out the in-sample and out-of-sample $R^2$ score. "
   ]
  },
  {
   "cell_type": "code",
   "execution_count": 61,
   "metadata": {},
   "outputs": [
    {
     "name": "stdout",
     "output_type": "stream",
     "text": [
      "The in-sample R-squared score for Ridge regression is  0.8718259724656923\n"
     ]
    }
   ],
   "source": [
    "#In sample prediction\n",
    "y_pred, beta_ridge = predict(X_aug, y_train, X_aug, best_penalty) # training model & getting predictions on train set\n",
    "r_square_score=r_square(y_train, y_pred)\n",
    "print('The in-sample R-squared score for Ridge regression is ',r_square_score)"
   ]
  },
  {
   "cell_type": "code",
   "execution_count": 62,
   "metadata": {
    "scrolled": true
   },
   "outputs": [
    {
     "name": "stdout",
     "output_type": "stream",
     "text": [
      "The out of sample R-squared score for Ridge regression is  0.8642954494735388\n"
     ]
    }
   ],
   "source": [
    "#out of sample prediction\n",
    "y_pred, beta_ridge = predict(X_aug, y_train, X_test_aug, best_penalty) # training model & getting predictions on test set\n",
    "r_square_score = r_square(y_test, y_pred)\n",
    "print('The out of sample R-squared score for Ridge regression is ',r_square_score)"
   ]
  },
  {
   "cell_type": "markdown",
   "metadata": {},
   "source": [
    "The $R^2$ score are again low and again our model only explains 87% of variance in our dependent variables. The fact that the scores for test and training set are similar means Ridge regression model is generalisable. "
   ]
  },
  {
   "cell_type": "code",
   "execution_count": 63,
   "metadata": {},
   "outputs": [
    {
     "data": {
      "text/html": [
       "<div>\n",
       "<style scoped>\n",
       "    .dataframe tbody tr th:only-of-type {\n",
       "        vertical-align: middle;\n",
       "    }\n",
       "\n",
       "    .dataframe tbody tr th {\n",
       "        vertical-align: top;\n",
       "    }\n",
       "\n",
       "    .dataframe thead th {\n",
       "        text-align: right;\n",
       "    }\n",
       "</style>\n",
       "<table border=\"1\" class=\"dataframe\">\n",
       "  <thead>\n",
       "    <tr style=\"text-align: right;\">\n",
       "      <th></th>\n",
       "      <th>0</th>\n",
       "      <th>1</th>\n",
       "      <th>2</th>\n",
       "      <th>3</th>\n",
       "      <th>4</th>\n",
       "      <th>5</th>\n",
       "      <th>6</th>\n",
       "      <th>7</th>\n",
       "      <th>8</th>\n",
       "      <th>9</th>\n",
       "      <th>10</th>\n",
       "    </tr>\n",
       "  </thead>\n",
       "  <tbody>\n",
       "    <tr>\n",
       "      <th>Features</th>\n",
       "      <td>intercept</td>\n",
       "      <td>CIC0</td>\n",
       "      <td>SM1_Dz(Z)</td>\n",
       "      <td>GATS1i</td>\n",
       "      <td>NdsCH</td>\n",
       "      <td>NdssC</td>\n",
       "      <td>MLOGP</td>\n",
       "      <td>FV1</td>\n",
       "      <td>VFV</td>\n",
       "      <td>FV2</td>\n",
       "      <td>FV3</td>\n",
       "    </tr>\n",
       "    <tr>\n",
       "      <th>Beta for ridge regression</th>\n",
       "      <td>2.615172</td>\n",
       "      <td>0.044981</td>\n",
       "      <td>1.258525</td>\n",
       "      <td>-0.038263</td>\n",
       "      <td>0.363083</td>\n",
       "      <td>0.004714</td>\n",
       "      <td>0.39054</td>\n",
       "      <td>-0.074538</td>\n",
       "      <td>-0.035688</td>\n",
       "      <td>-0.015243</td>\n",
       "      <td>-0.001494</td>\n",
       "    </tr>\n",
       "    <tr>\n",
       "      <th>Beta for linear regression</th>\n",
       "      <td>2.61638</td>\n",
       "      <td>0.044714</td>\n",
       "      <td>1.258719</td>\n",
       "      <td>-0.038009</td>\n",
       "      <td>0.363073</td>\n",
       "      <td>0.004665</td>\n",
       "      <td>0.39051</td>\n",
       "      <td>-0.074603</td>\n",
       "      <td>-0.035707</td>\n",
       "      <td>-0.015259</td>\n",
       "      <td>-0.001803</td>\n",
       "    </tr>\n",
       "  </tbody>\n",
       "</table>\n",
       "</div>"
      ],
      "text/plain": [
       "                                   0         1          2         3   \\\n",
       "Features                    intercept      CIC0  SM1_Dz(Z)    GATS1i   \n",
       "Beta for ridge regression    2.615172  0.044981   1.258525 -0.038263   \n",
       "Beta for linear regression    2.61638  0.044714   1.258719 -0.038009   \n",
       "\n",
       "                                  4         5        6         7         8   \\\n",
       "Features                       NdsCH     NdssC    MLOGP       FV1       VFV   \n",
       "Beta for ridge regression   0.363083  0.004714  0.39054 -0.074538 -0.035688   \n",
       "Beta for linear regression  0.363073  0.004665  0.39051 -0.074603 -0.035707   \n",
       "\n",
       "                                  9         10  \n",
       "Features                         FV2       FV3  \n",
       "Beta for ridge regression  -0.015243 -0.001494  \n",
       "Beta for linear regression -0.015259 -0.001803  "
      ]
     },
     "execution_count": 63,
     "metadata": {},
     "output_type": "execute_result"
    }
   ],
   "source": [
    "pd.DataFrame({'Features' : ['intercept']+list(X.columns.values), 'Beta for ridge regression':beta_ridge, 'Beta for linear regression':beta_aug_lr}).T"
   ]
  },
  {
   "cell_type": "markdown",
   "metadata": {},
   "source": [
    "The $R^2$ score for Ridge regression and Linear Regression are almost identical, therefore Ridge regression hasn't provided us with a better fit to our data and the two models explain a similar percentage of variance in our dependent variable. Furthermore, the two models are just as generalisable.\n",
    "\n",
    "The betas score for Ridge regression and Linear Regression are almost identical too. Ridge didn't reduce the variability of the estimated coefficients. This is because we used a very small optimal penalty of 0.0445. Hence Ridge Regression model is very similar to the Linear regression model."
   ]
  },
  {
   "cell_type": "markdown",
   "metadata": {
    "id": "K9OTrzYly0Oz"
   },
   "source": [
    "<a name=\"q13\"></a>\n",
    "\n",
    "## 1.3 [^](#outline) Relaxation of Lasso regression\n",
    "In this Lasso_huber regression we aim to find:\n",
    "\n",
    "$$\\hat{\\beta}_{Lasso-Huber}(\\lambda)=argmin_{\\beta}\\left\\{\\underbrace{\\|Y-X \\beta\\|^{2}+\\lambda \\sum_{j=1}^{p}L_{c}(\\beta_i)}_\\text{$=Cost_{Lasso-Huber}(\\beta)$}\\right\\}$$\n",
    "\n",
    "Where the Huber function is:\n",
    " $$L_{c}(\\beta_i) = \\Bigg\\{\\begin{array}{lr}\n",
    "        \\frac{\\beta_i^2}{2}, & \\text{for } |\\beta_i| \\leq c\\\\\n",
    "        c(│\\beta_i│-\\frac{c}{2}), & \\text{otherwise} \n",
    "        \\end{array}$$"
   ]
  },
  {
   "cell_type": "markdown",
   "metadata": {},
   "source": [
    "### 1.3.1\n",
    "In this section I will implement the relaxation of the Lasso optimisation using gradient descent to find the optimal $\\hat{\\beta}_{Lasso-Huber}$. Where p is the number of predictors, λ is the penalty hyper-parameter, and 𝑐 regulates the 'sharpness' of the Huber functions. Here we will fix c=0. 001."
   ]
  },
  {
   "cell_type": "markdown",
   "metadata": {},
   "source": [
    "We want to minimise the $Cost_{Lasso-Huber}(\\beta)$. We will use gradient descent to optimise this cost function. Computing its derivative w.r.t. $\\beta$ we get:\n",
    "$$\\frac{∂Cost_{Lasso-Huber}(\\beta)}{∂\\beta}= −2X^{T} Y + 2X^{T} Xβ + \\lambda \\sum_{j=1}^{p}L'_{c}(\\beta_i)$$\n",
    "\n",
    "We need to compute the derivative of the Huber function:\n",
    "$$L'_{c}(\\beta_i)= \\Bigg\\{\\begin{array}{lr}\n",
    "        \\beta_i, & \\text{for } |\\beta_i| \\leq c\\\\\n",
    "        c*sign(\\beta), & \\text{otherwise} \n",
    "        \\end{array}$$"
   ]
  },
  {
   "cell_type": "code",
   "execution_count": 64,
   "metadata": {
    "id": "jg2TWPoT0J0Z"
   },
   "outputs": [],
   "source": [
    "def huber(beta, c=1e-3):\n",
    "    'Computes and returns Huber function at beta'\n",
    "    return (0.5*beta**2 if abs(beta)<=c else c*(abs(beta)-0.5*c))"
   ]
  },
  {
   "cell_type": "code",
   "execution_count": 65,
   "metadata": {
    "id": "jg2TWPoT0J0Z"
   },
   "outputs": [],
   "source": [
    "def grad_huber(beta, c=1e-3):\n",
    "    'Computes and returns the derivation of the Huber function at beta'\n",
    "    return (beta if abs(beta)<=c else c*np.sign(beta))"
   ]
  },
  {
   "cell_type": "code",
   "execution_count": 66,
   "metadata": {
    "id": "U7hMrAxK0LQN"
   },
   "outputs": [],
   "source": [
    "def minimize_ls_huber(X, y, lambd, n_iters=10000, step_size=1e-3):\n",
    "    n, p = X.shape\n",
    "    XX = X.T @ X /n\n",
    "    Xy = X.T @ y /n\n",
    "    \n",
    "    #initialise betas\n",
    "    beta = np.zeros(shape=(p, 1))\n",
    "\n",
    "    # gradient descent \n",
    "    for i in range(n_iters):\n",
    "        # calculates the gradient of the cost function of lasso at current beta\n",
    "        grad = (-2 * Xy).reshape(p,1) + 2*XX @ beta + lambd*np.array([grad_huber(x[0]) for x in beta]).reshape(p, 1)  \n",
    "        beta = beta - step_size * grad #gradient descent update\n",
    "      \n",
    "    return beta"
   ]
  },
  {
   "cell_type": "markdown",
   "metadata": {},
   "source": [
    "With these gradients and the cost, we can conduct the actual optimisation and update the $\\boldsymbol \\beta$ with a learning rate $step \\space size$, which we shall set to $1e-3$.\n",
    "I am implementing the updating procedure for $\\boldsymbol \\beta$\n",
    "$$\n",
    "\\boldsymbol \\beta = \\boldsymbol \\beta - step \\space size \\ \\frac{\\partial Cost_{Lasso-Huber}(\\beta)}{\\partial \\boldsymbol \\beta}\n",
    "$$"
   ]
  },
  {
   "cell_type": "markdown",
   "metadata": {},
   "source": [
    "### 1.3.2\n",
    "In this section I will used Lasso-Huber regression with a 5-fold cross-validation to conduct a grid search to find the optimal $\\lambda$ hyper-parameter λ. I will also report the in-sample and out-of-sample $R^2$ score of the model with the optimal $\\lambda$ hyper-parameter."
   ]
  },
  {
   "cell_type": "code",
   "execution_count": 67,
   "metadata": {},
   "outputs": [],
   "source": [
    "def predict(X_train, y_train, X_test, lambd):\n",
    "    beta = minimize_ls_huber(X_train, y_train, lambd, n_iters=10000, step_size=1e-3)\n",
    "    y_pred = X_test @ beta #calculate the predictions\n",
    "    return y_pred, beta\n",
    "\n",
    "def score(X_train, y_train, X_test, y_test, lambd):\n",
    "  'We now score the predictions by computing the cost function'\n",
    "  y_pred, beta = predict(X_train, y_train, X_test, lambd=lambd) \n",
    "  #below computes and returns the cost function of our predictions\n",
    "  return (y_pred - y_test.reshape(-1,1)).T @ (y_pred - y_test.reshape(-1, 1)) + lambd * sum([huber(x[0]) for x in beta])"
   ]
  },
  {
   "cell_type": "code",
   "execution_count": 68,
   "metadata": {
    "scrolled": true
   },
   "outputs": [
    {
     "name": "stdout",
     "output_type": "stream",
     "text": [
      "best_lambd: 0.001\n"
     ]
    }
   ],
   "source": [
    "lambd_range = np.linspace(0.001,0.1, 100) #range over which I try to find an optimal 𝜆 \n",
    "#we can use the old choose_best_penalty as we agiain want the hyper-parameter minimising the score (cost)\n",
    "best_lambd, lambd_scores = choose_best_penalty(X_aug, y_train, folds_indexes, lambd_range)\n",
    "print('best_lambd:', best_lambd)"
   ]
  },
  {
   "cell_type": "code",
   "execution_count": 69,
   "metadata": {},
   "outputs": [
    {
     "data": {
      "image/png": "[encoded data removed]",
      "text/plain": [
       "<Figure size 432x288 with 1 Axes>"
      ]
     },
     "metadata": {
      "needs_background": "light"
     },
     "output_type": "display_data"
    }
   ],
   "source": [
    "plt.plot(lambd_range, lambd_scores);\n",
    "plt.ylabel('cost function', size=10)\n",
    "plt.title('Lasso-Huber regression', size=15)\n",
    "plt.xlabel('hyper-parameter λ', size=10);"
   ]
  },
  {
   "cell_type": "markdown",
   "metadata": {},
   "source": [
    "As you can see above, this is a linear curve. Hence the gradient descent does find the true optimal penalty in the 𝜆 range tested, which is the minimum 𝜆 value in the range. I have tried plotting this function over various 𝜆 ranges and the result always is a linear increasing line like above."
   ]
  },
  {
   "cell_type": "code",
   "execution_count": 70,
   "metadata": {},
   "outputs": [
    {
     "name": "stdout",
     "output_type": "stream",
     "text": [
      "The in-sample R-squared score for Lasso-Huber regression is  0.8308768771816898\n"
     ]
    }
   ],
   "source": [
    "#In sample prediction\n",
    "y_pred, beta = predict(X_aug, y_train, X_aug, best_lambd)\n",
    "r_square_score=r_square(y_train, y_pred.reshape(-1))\n",
    "print('The in-sample R-squared score for Lasso-Huber regression is ', r_square_score)"
   ]
  },
  {
   "cell_type": "code",
   "execution_count": 71,
   "metadata": {},
   "outputs": [
    {
     "name": "stdout",
     "output_type": "stream",
     "text": [
      "The out of sample R-squared score for Lasso-Huber regression is  0.8242101787519777\n"
     ]
    }
   ],
   "source": [
    "#out of sample prediction\n",
    "y_pred, beta = predict(X_aug, y_train, X_test_aug, best_lambd)\n",
    "r_square_score=r_square(y_test, y_pred.reshape(-1))\n",
    "print('The out of sample R-squared score for Lasso-Huber regression is ', r_square_score)"
   ]
  },
  {
   "cell_type": "markdown",
   "metadata": {},
   "source": [
    "The in-sample and out of sample $R^2$ scores are similar which means our Lasso_Huber model is generalisable. However these scores are lower than that of the Ridge regression model by about 0.5, hence we can conclude that the Lasso-Huber model explains 5% less variance in our dependent variables than the Ridge regression model."
   ]
  },
  {
   "cell_type": "code",
   "execution_count": 72,
   "metadata": {},
   "outputs": [
    {
     "data": {
      "text/html": [
       "<div>\n",
       "<style scoped>\n",
       "    .dataframe tbody tr th:only-of-type {\n",
       "        vertical-align: middle;\n",
       "    }\n",
       "\n",
       "    .dataframe tbody tr th {\n",
       "        vertical-align: top;\n",
       "    }\n",
       "\n",
       "    .dataframe thead th {\n",
       "        text-align: right;\n",
       "    }\n",
       "</style>\n",
       "<table border=\"1\" class=\"dataframe\">\n",
       "  <thead>\n",
       "    <tr style=\"text-align: right;\">\n",
       "      <th></th>\n",
       "      <th>0</th>\n",
       "      <th>1</th>\n",
       "      <th>2</th>\n",
       "      <th>3</th>\n",
       "      <th>4</th>\n",
       "      <th>5</th>\n",
       "      <th>6</th>\n",
       "      <th>7</th>\n",
       "      <th>8</th>\n",
       "      <th>9</th>\n",
       "      <th>10</th>\n",
       "    </tr>\n",
       "  </thead>\n",
       "  <tbody>\n",
       "    <tr>\n",
       "      <th>Features</th>\n",
       "      <td>intercept</td>\n",
       "      <td>CIC0</td>\n",
       "      <td>SM1_Dz(Z)</td>\n",
       "      <td>GATS1i</td>\n",
       "      <td>NdsCH</td>\n",
       "      <td>NdssC</td>\n",
       "      <td>MLOGP</td>\n",
       "      <td>FV1</td>\n",
       "      <td>VFV</td>\n",
       "      <td>FV2</td>\n",
       "      <td>FV3</td>\n",
       "    </tr>\n",
       "    <tr>\n",
       "      <th>Estimated beta for ridge regression</th>\n",
       "      <td>2.615172</td>\n",
       "      <td>0.044981</td>\n",
       "      <td>1.258525</td>\n",
       "      <td>-0.038263</td>\n",
       "      <td>0.363083</td>\n",
       "      <td>0.004714</td>\n",
       "      <td>0.39054</td>\n",
       "      <td>-0.074538</td>\n",
       "      <td>-0.035688</td>\n",
       "      <td>-0.015243</td>\n",
       "      <td>-0.001494</td>\n",
       "    </tr>\n",
       "    <tr>\n",
       "      <th>Estimated beta for Lasso-Huber regression</th>\n",
       "      <td>1.114948</td>\n",
       "      <td>0.344801</td>\n",
       "      <td>0.969544</td>\n",
       "      <td>-0.193489</td>\n",
       "      <td>0.394037</td>\n",
       "      <td>0.071028</td>\n",
       "      <td>0.431428</td>\n",
       "      <td>-0.010009</td>\n",
       "      <td>-0.01564</td>\n",
       "      <td>0.006561</td>\n",
       "      <td>0.482185</td>\n",
       "    </tr>\n",
       "  </tbody>\n",
       "</table>\n",
       "</div>"
      ],
      "text/plain": [
       "                                                  0         1          2   \\\n",
       "Features                                   intercept      CIC0  SM1_Dz(Z)   \n",
       "Estimated beta for ridge regression         2.615172  0.044981   1.258525   \n",
       "Estimated beta for Lasso-Huber regression   1.114948  0.344801   0.969544   \n",
       "\n",
       "                                                 3         4         5   \\\n",
       "Features                                     GATS1i     NdsCH     NdssC   \n",
       "Estimated beta for ridge regression       -0.038263  0.363083  0.004714   \n",
       "Estimated beta for Lasso-Huber regression -0.193489  0.394037  0.071028   \n",
       "\n",
       "                                                 6         7         8   \\\n",
       "Features                                      MLOGP       FV1       VFV   \n",
       "Estimated beta for ridge regression         0.39054 -0.074538 -0.035688   \n",
       "Estimated beta for Lasso-Huber regression  0.431428 -0.010009  -0.01564   \n",
       "\n",
       "                                                 9         10  \n",
       "Features                                        FV2       FV3  \n",
       "Estimated beta for ridge regression       -0.015243 -0.001494  \n",
       "Estimated beta for Lasso-Huber regression  0.006561  0.482185  "
      ]
     },
     "execution_count": 72,
     "metadata": {},
     "output_type": "execute_result"
    }
   ],
   "source": [
    "pd.DataFrame({'Features' : ['intercept']+list(X.columns.values), 'Estimated beta for ridge regression':beta_ridge, 'Estimated beta for Lasso-Huber regression':beta.reshape(len(beta))}).T"
   ]
  },
  {
   "cell_type": "markdown",
   "metadata": {},
   "source": [
    "Overall beta components for Lasso-Huber are smaller than for ridge regression. This means that the variability of the Lasso-Huber beta estimator is smaller than that of the Ridge regression beta estimator.\n",
    "\n",
    "I can't conclude that which one out of Ridge regression or Lasso-Huber regression is better. As the former model explains greater variance in the dependent variable and the latter has a smaller variance of its estimator."
   ]
  },
  {
   "cell_type": "markdown",
   "metadata": {},
   "source": [
    "Below I plot the Huber function and its derivative to make sure I am implementing it correctly."
   ]
  },
  {
   "cell_type": "code",
   "execution_count": 73,
   "metadata": {},
   "outputs": [],
   "source": [
    "beta_i_range = np.arange(-0.005, 0.005, 0.001) #beta range to plot the functions over \n",
    "huber_vals = [huber(beta) for beta in beta_i_range] # computes huber function values over beta range\n",
    "grad_huber_vals = [grad_huber(beta) for beta in beta_i_range] # computes derivative of huber function values over beta range"
   ]
  },
  {
   "cell_type": "code",
   "execution_count": 74,
   "metadata": {},
   "outputs": [
    {
     "data": {
      "image/png": "[encoded data removed]",
      "text/plain": [
       "<Figure size 432x288 with 1 Axes>"
      ]
     },
     "metadata": {
      "needs_background": "light"
     },
     "output_type": "display_data"
    }
   ],
   "source": [
    "plt.plot(beta_i_range, huber_vals)\n",
    "plt.ylabel('Huber function for c=1e-3', size=10)\n",
    "plt.xlabel('Beta_i', size=10);"
   ]
  },
  {
   "cell_type": "markdown",
   "metadata": {},
   "source": [
    "The above graph shows that the implemetation of Huber function is correct as its used for its property of reducing all the $\\beta_i$s to 0."
   ]
  },
  {
   "cell_type": "code",
   "execution_count": 75,
   "metadata": {
    "scrolled": false
   },
   "outputs": [
    {
     "data": {
      "image/png": "[encoded data removed]",
      "text/plain": [
       "<Figure size 432x288 with 1 Axes>"
      ]
     },
     "metadata": {
      "needs_background": "light"
     },
     "output_type": "display_data"
    }
   ],
   "source": [
    "plt.plot(beta_i_range, grad_huber_vals)\n",
    "plt.ylabel('Gradients of Huber function for c=1e-3', size=10)\n",
    "plt.xlabel('Beta_i', size=10);"
   ]
  },
  {
   "cell_type": "markdown",
   "metadata": {},
   "source": [
    "The above graph shows that the implemetation of derivative of Huber function is correct as its 0 when $\\beta_i$ is 0. Hence the minimize_ls_huber function is taking $\\beta_i$s to 0."
   ]
  },
  {
   "cell_type": "markdown",
   "metadata": {
    "id": "oi0I8ERdy0mD"
   },
   "source": [
    "<a name=\"task-2\"></a>\n",
    "\n",
    "# Task 2: Classification [^](#outline)"
   ]
  },
  {
   "cell_type": "markdown",
   "metadata": {
    "id": "BgBfTmgpy08Z"
   },
   "source": [
    "<a name=\"q21\"></a>\n",
    "\n",
    "## 2.1 [^](#outline) kNN classifier\n",
    "KNN is a simple prediction algorithm. It can be simply summarised as below:\n",
    "1. Calculate the distance from x to all points in training data.\n",
    "2. Sort the points in your training data by increasing distance from x.\n",
    "3. Predict the majority label of teh 'k' closest training data points."
   ]
  },
  {
   "cell_type": "markdown",
   "metadata": {},
   "source": [
    "### 2.1.1\n",
    "In this section I will implement K-nearest neighbour (KNN) alogorithm with 5-fold cross-validation to optain the optimal hyper-parameter k. "
   ]
  },
  {
   "cell_type": "code",
   "execution_count": 76,
   "metadata": {},
   "outputs": [],
   "source": [
    "df1= pd.read_csv('tumour_samples.csv') # reading in train data set file\n",
    "\n",
    "# convert categorical labels to numbers\n",
    "diag_map = {'M': 1, 'B': 0} #giving binary values to classification strings \n",
    "df1['DIAGNOSIS'] = df1['DIAGNOSIS'].map(diag_map) #Sets M to 1 and B to 0\n",
    "\n",
    "X_train_df = df1.iloc[:,:-1].drop(df1.columns[0], axis=1) #seperate predictor features\n",
    "y_train_df = df1.iloc[:,-1] # seperate target feature\n",
    "\n",
    "df2= pd.read_csv('tumour_test.csv') # reading in test data set file\n",
    "df2['DIAGNOSIS'] = df2['DIAGNOSIS'].map(diag_map) #Sets M to 1 and B to 0\n",
    "\n",
    "X_test_df = df2.iloc[:,:-1].drop(df2.columns[0], axis=1) #seperate predictor features\n",
    "y_test_df = df2.iloc[:,-1] # seperate target feature\n",
    "\n"
   ]
  },
  {
   "cell_type": "code",
   "execution_count": 77,
   "metadata": {},
   "outputs": [],
   "source": [
    "def standardise(X, mu, sigma):\n",
    "  X_std = (X - mu) / sigma \n",
    "  return X_std"
   ]
  },
  {
   "cell_type": "code",
   "execution_count": 78,
   "metadata": {},
   "outputs": [],
   "source": [
    "mu = np.mean(X_train_df, 0) # computes the mean on X train set over the columns\n",
    "sigma = np.std(X_train_df, 0) # computes the standard deviation on X train set over the columns\n",
    "\n",
    "X_train_df = standardise(X_train_df, mu, sigma) # scale and centre the X train set\n",
    "X_test_df = standardise(X_test_df, mu, sigma) # scale and centre the X test set similiarly to X train set"
   ]
  },
  {
   "cell_type": "markdown",
   "metadata": {},
   "source": [
    "The reason for standardising the data is to give each feature the same influence in identifying neighbours as otherwise, the features with larger values will dominate the distance hence the outcome of the KNN.\n",
    "\n",
    "Sometimes it isn't a good idea to normalise for KNN as important features can lose their larger weightage in classification however in our case we assume that each predictor feature has the same weightage."
   ]
  },
  {
   "cell_type": "code",
   "execution_count": 79,
   "metadata": {},
   "outputs": [],
   "source": [
    "# shuffling the rows in X and y\n",
    "p = np.random.permutation(len(y_train_df))\n",
    "X_train_df = X_train_df.take(p)\n",
    "y_train_df = y_train_df.take(p)\n",
    "\n",
    "# Now we have a list of five index arrays, each correspond to one of the five folds.\n",
    "folds_indexes = np.array_split(np.arange(len(y_train_df)), 5)"
   ]
  },
  {
   "cell_type": "code",
   "execution_count": 80,
   "metadata": {},
   "outputs": [],
   "source": [
    "#coverting to numpy array as some functions need data without labels \n",
    "X_train = X_train_df.to_numpy()\n",
    "y_train = y_train_df.to_numpy()\n",
    "X_test = X_test_df.to_numpy()\n",
    "y_test = y_test_df.to_numpy()"
   ]
  },
  {
   "cell_type": "code",
   "execution_count": 81,
   "metadata": {},
   "outputs": [],
   "source": [
    "def euclidian_distance(p, q):\n",
    "    'Calculates and returns the Euclidean distance between two vectors'\n",
    "    return np.sqrt(np.sum(((p-q))**2, axis=1))"
   ]
  },
  {
   "cell_type": "code",
   "execution_count": 82,
   "metadata": {},
   "outputs": [],
   "source": [
    "def k_neighbours(X_train, X_test, k=5, return_distance=False):\n",
    "  n_neighbours = k\n",
    "  dist = []\n",
    "  neigh_ind = []\n",
    "  \n",
    "  # compute distance from each point x_test in X_test to all points in X_train \n",
    "  point_dist = [euclidian_distance(x_test, X_train) for x_test in X_test] \n",
    "\n",
    "  # determine which k training points are closest to each test point\n",
    "  for row in point_dist:\n",
    "      enum_neigh = enumerate(row)\n",
    "      sorted_neigh = sorted(enum_neigh, key=lambda x: x[1])[:k]\n",
    "\n",
    "      ind_list = [tup[0] for tup in sorted_neigh]\n",
    "      dist_list = [tup[1] for tup in sorted_neigh]\n",
    "\n",
    "      dist.append(dist_list)\n",
    "      neigh_ind.append(ind_list)\n",
    "  \n",
    "  # return distances together with indices of k nearest neighbours\n",
    "  if return_distance:\n",
    "      return np.array(dist), np.array(neigh_ind)\n",
    "  \n",
    "  return np.array(neigh_ind)\n",
    "\n",
    "def predict(X_train, y_train, X_test, k=5):\n",
    "  # each of the k neighbours contributes equally to the classification of any data point in X_test  \n",
    "  neighbours = k_neighbours(X_train, X_test, k=k)\n",
    "  \n",
    "  # count number of occurences of label and choose the label that has most occurences\n",
    "  y_pred = np.array([np.argmax(np.bincount(y_train[neighbour])) for neighbour in neighbours]) \n",
    "\n",
    "  return y_pred"
   ]
  },
  {
   "cell_type": "code",
   "execution_count": 83,
   "metadata": {
    "scrolled": true
   },
   "outputs": [],
   "source": [
    "def score(X_train, y_train, X_test, y_test, k=5):\n",
    "    'For KNN we score the hyper-parameter based on accuracy of predictions'\n",
    "    y_pred = predict(X_train, y_train, X_test, k=k) \n",
    "    return sum(y_pred==y_test)/ len(y_test) #returns accuracy of predictions"
   ]
  },
  {
   "cell_type": "code",
   "execution_count": 84,
   "metadata": {},
   "outputs": [],
   "source": [
    "#We need a new function selecting the hyper-parameter as now we seek to maximise rather than minimise the score (accuracy)\n",
    "def choose_best_k(X_train, y_train, folds, k_range):\n",
    "  k_scores = np.zeros((len(k_range),))\n",
    "  \n",
    "  for i, k in enumerate(k_range):\n",
    "    k_scores[i] = cross_validation_score(X_train, y_train, folds, k)\n",
    "    print(f'CV_ACC@k={k}: {k_scores[i]:.5f}') # prints accuracy correpsonsing to each k \n",
    "\n",
    "  best_k_index = np.argmax(k_scores) # selects index of k which maximises accuracy\n",
    "  return k_range[best_k_index] # returns k value maximising accuracy"
   ]
  },
  {
   "cell_type": "code",
   "execution_count": 85,
   "metadata": {},
   "outputs": [
    {
     "name": "stdout",
     "output_type": "stream",
     "text": [
      "CV_ACC@k=1: 0.99493\n",
      "CV_ACC@k=2: 0.98324\n",
      "CV_ACC@k=3: 0.98519\n",
      "CV_ACC@k=4: 0.98051\n",
      "CV_ACC@k=5: 0.98363\n",
      "CV_ACC@k=6: 0.97973\n",
      "CV_ACC@k=7: 0.98090\n",
      "CV_ACC@k=8: 0.97740\n",
      "CV_ACC@k=9: 0.98090\n",
      "CV_ACC@k=10: 0.97779\n",
      "CV_ACC@k=11: 0.98012\n",
      "CV_ACC@k=12: 0.97779\n",
      "CV_ACC@k=13: 0.97895\n",
      "CV_ACC@k=14: 0.97740\n",
      "Best hyper-parameter k found using 5-folds cross-validation: 1\n"
     ]
    }
   ],
   "source": [
    "best_k = choose_best_k(X_train, y_train, folds_indexes, np.arange(1, 15))\n",
    "print('Best hyper-parameter k found using 5-folds cross-validation:', best_k)"
   ]
  },
  {
   "cell_type": "markdown",
   "metadata": {},
   "source": [
    "We can see from the above printout that the k value corresponding to the largest accuracy is 1."
   ]
  },
  {
   "cell_type": "markdown",
   "metadata": {},
   "source": [
    "### 2.1.2 \n",
    "In this section I will compare the KNN model at the optimal k hyper-parameter by predicting on X train set and X test set."
   ]
  },
  {
   "cell_type": "code",
   "execution_count": 86,
   "metadata": {
    "scrolled": true
   },
   "outputs": [
    {
     "name": "stdout",
     "output_type": "stream",
     "text": [
      "Train set accuracy at best k: 1.0\n",
      "Test set accuracy at best k: 1.0\n"
     ]
    }
   ],
   "source": [
    "print('Train set accuracy at best k:', score(X_train, y_train, X_train, y_train, k=best_k))\n",
    "print('Test set accuracy at best k:', score(X_train, y_train, X_test, y_test, k=best_k))"
   ]
  },
  {
   "cell_type": "markdown",
   "metadata": {},
   "source": [
    "This is really good as it means that my model is 100% accurate over the training and test set. I would also comment since the best K is 1 (the smallest possible value), the KNN model is as efficient as it can be over all values of K."
   ]
  },
  {
   "cell_type": "markdown",
   "metadata": {
    "id": "rCPlajQOy1ER"
   },
   "source": [
    "<a name=\"q22\"></a>\n",
    "\n",
    "## 2.2 [^](#outline) Random Forest\n",
    "Random forest is an modification of the Decision tree algorithm. I will first describe decision tree.  Decision tree is a greedy algorithm where the data samples are split in a left $\\boldsymbol y_l$ and right $\\boldsymbol y_r$ sample. The splitting is done recurively on each side, giving us a binary-tree type of splittings.  \n",
    "\n",
    "Samples can be slit given two parameters: the feature index j and a predicate value s.\n",
    "\n",
    "In order to work out j and s at each split I will implement the cross-entropy to search for j and s that minimses weighted sum of Cross-Entropy for the left and the right samples.\n",
    "\n",
    "  $$CE(\\boldsymbol y; j, s) = p_l \\times CE(\\boldsymbol y_l) + p_r \\times CE(\\boldsymbol y_r)$$\n",
    "\n",
    "where $p_l$ and $p_r$ are, respectively, the cumulative weights of samples on the left and on the right, while $CE(\\boldsymbol y)$ is defined as:\n",
    "\n",
    "$$\n",
    "\\text{CE}(\\boldsymbol y) = - \\sum_{i=1}^Q \\mathbb P (y = c_i) \\log (\\mathbb P (y = c_i))\n",
    "$$\n",
    "\n",
    "where $c_i$ is the i-th class out of $Q$ distinct classes, so $\\mathbb P (y = c_i)$ reads the weight of the class $i$ in the current sample $\\boldsymbol y$.\n",
    "\n",
    "For the random forest we include bootstrap on the training-instances and feature bagging at each split to the decision tree algorithm."
   ]
  },
  {
   "cell_type": "markdown",
   "metadata": {},
   "source": [
    "### 2.2.1 \n",
    "In this section, I will train a random forest algorithm employing cross-entropy as the information criterion for the splits in the decision trees. Using 5-fold cross-validation and accuracy as a measure of performance I will optimise over the following hyperparameters: (i) number of decision trees, (ii)depth of trees."
   ]
  },
  {
   "cell_type": "code",
   "execution_count": 87,
   "metadata": {},
   "outputs": [],
   "source": [
    "from collections import defaultdict\n",
    "training_weights = np.ones_like(y_train) / len(y_train) #we will start with uniform weights and update these in the algorithm\n",
    "\n",
    "# We need a dictionary indicating whether the column index maps to a \n",
    "# categorical feature or numerical\n",
    "# In this example, all features are numerical (categorical=False)\n",
    "columns_dict = {index: False for index in range(X_train.shape[1])}"
   ]
  },
  {
   "cell_type": "markdown",
   "metadata": {},
   "source": [
    "We use cross-entropy as the loss function that is our random forest splits. We want to achieve maximal information in our split. The cross entropy-entropy is minimal when the model distribution is equal to the data distribution. "
   ]
  },
  {
   "cell_type": "code",
   "execution_count": 88,
   "metadata": {},
   "outputs": [],
   "source": [
    "def cross_entropy_index(y, sample_weights):\n",
    "  \"\"\" \n",
    "  Calculate the cross_entropy-index for labels.\n",
    "  Arguments:\n",
    "      y: vector of training labels, of shape (N,).\n",
    "      sample_weights: weights for each samples, of shape (N,).\n",
    "  Returns:\n",
    "      (float): the cross_entropy-index for y.\n",
    "  \"\"\"\n",
    "\n",
    "  # count different labels in y，and store in label_weights\n",
    "  # initialize with zero for each distinct label.\n",
    "  label_weights = {yi: 0 for yi in set(y)}  \n",
    "  for yi, wi in zip(y, sample_weights):\n",
    "      label_weights[yi] += wi\n",
    "\n",
    "  total_weight = sum(label_weights.values())\n",
    "  cross_entropy = 0 # initilise cross-entropy to be 0\n",
    "  for label, weight in label_weights.items():\n",
    "      p = weight / total_weight #calculates weightage\n",
    "      cross_entropy -= p*np.log(p) # updating cross entropy\n",
    "\n",
    "  return cross_entropy"
   ]
  },
  {
   "cell_type": "code",
   "execution_count": 89,
   "metadata": {},
   "outputs": [],
   "source": [
    "def cross_entropy_split_value(X, y, sample_weights, column, categorical):\n",
    "  \"\"\"\n",
    "  Calculate the cross_entropy-index based on `column` with the split that minimizes the cross_entropy-index.\n",
    "  Arguments:\n",
    "      X: training features, of shape (N, D).\n",
    "      y: vector of training labels, of shape (N,).\n",
    "      sample_weights: weights for each samples, of shape (N,).\n",
    "      column: the column of the feature for calculating. 0 <= column < D\n",
    "      categorical: boolean value indicating whether column is a categorical variable or numerical.\n",
    "  Returns:\n",
    "      (float, float): the resulted cross_entropy-index and the corresponding value used in splitting.\n",
    "  \"\"\"\n",
    "  \n",
    "  unique_vals = np.unique(X[:, column])\n",
    "\n",
    "  assert len(unique_vals) > 1, f\"There must be more than one distinct feature value. Given: {unique_vals}.\"\n",
    "\n",
    "  cross_entropy_index_val, threshold = np.inf, None\n",
    "  \n",
    "  # split the values of i-th feature and calculate the cost \n",
    "  for value in unique_vals:\n",
    "    (X_l, X_r), (y_l, y_r), (w_l, w_r) = split_samples(X, y, sample_weights, column, value, categorical) \n",
    "\n",
    "    # if one of the two sides is empty, skip this split.\n",
    "    if len(y_l) == 0 or len(y_r) == 0:\n",
    "      continue\n",
    "    \n",
    "    p_left = sum(w_l)/(sum(w_l) + sum(w_r)) #the sum of 2 weights at each split is scaled to 1 \n",
    "    p_right = 1 - p_left\n",
    "    #below we calculate the weighted sum of CE on left and right samples\n",
    "    new_cost = p_left * cross_entropy_index(y_l, w_l) + p_right * cross_entropy_index(y_r, w_r) \n",
    "    if new_cost < cross_entropy_index_val: \n",
    "      cross_entropy_index_val, threshold = new_cost, value\n",
    "    \n",
    "  return cross_entropy_index_val, threshold "
   ]
  },
  {
   "cell_type": "code",
   "execution_count": 90,
   "metadata": {},
   "outputs": [],
   "source": [
    "def split_samples(X, y, sample_weights, column, value, categorical):\n",
    "  \"\"\"\n",
    "  Return the split of data whose column-th feature:\n",
    "    1. equals value, in case `column` is categorical, or\n",
    "    2. less than value, in case `column` is not categorical (i.e. numerical)\n",
    "\n",
    "  Arguments:\n",
    "      X: training features, of shape (N, D).\n",
    "      y: vector of training labels, of shape (N,).\n",
    "      sample_weights: weights for each samples, of shape (N,).\n",
    "      column: the column of the feature for splitting.\n",
    "      value: splitting threshold  the samples \n",
    "      categorical: boolean value indicating whether column is a categorical variable or numerical.\n",
    "  Returns:\n",
    "      tuple(np.array, np.array): tuple of subsets of X splitted based on column-th value.\n",
    "      tuple(np.array, np.array): tuple of subsets of y splitted based on column-th value.\n",
    "      tuple(np.array, np.array): tuple of subsets of sample weights based on column-th value.\n",
    "  \"\"\" \n",
    "\n",
    "  if categorical:\n",
    "    #if feature is categorical, the samples with feature value equal to threshold are assigned to the left, and vice versa\n",
    "    left_mask =(X[:, column] == value) \n",
    "  else:\n",
    "    #if feature isn,t categorical, the samples with feature value less than threshold  are assigned to the left, and vice versa.\n",
    "    left_mask = (X[:, column] < value) \n",
    "  \n",
    "  #below we define output, input and weights of each side\n",
    "  X_left, X_right = X[left_mask, :], X[~left_mask, :]\n",
    "  y_left, y_right = y[left_mask], y[~left_mask]\n",
    "  w_left, w_right  = sample_weights[left_mask], sample_weights[~left_mask]\n",
    "\n",
    "  return (X_left, X_right), (y_left, y_right), (w_left, w_right)"
   ]
  },
  {
   "cell_type": "code",
   "execution_count": 91,
   "metadata": {},
   "outputs": [],
   "source": [
    "def cross_entropy_split_rf(n_features, X, y, sample_weights, columns_dict):\n",
    "  \"\"\"\n",
    "  Choose the best feature to split according to criterion.\n",
    "  Args:\n",
    "      n_features: number of sampled features.\n",
    "      X: training features, of shape (N, D).\n",
    "      y: vector of training labels, of shape (N,).\n",
    "      sample_weights: weights for each samples, of shape (N,).\n",
    "      columns_dict: a dictionary mapping column indices to whether the column is categorical or numerical variable.\n",
    "  Returns:\n",
    "      (float, int, float): the minimized cross_entropy-index, the best feature index and value used in splitting.\n",
    "  \"\"\"\n",
    "  columns = np.random.choice(list(columns_dict.keys()), n_features, replace=False)\n",
    "  columns_dict = {c: columns_dict[c] for c in columns}\n",
    "\n",
    "  min_cross_entropy_index, split_column, split_val = np.inf, 0, 0\n",
    "  for column, categorical in columns_dict.items():\n",
    "    # skip column if samples are not seperable by that column.\n",
    "    if len(np.unique(X[:, column])) < 2:\n",
    "      continue\n",
    "\n",
    "    # search for the best splitting value for the given column.\n",
    "    cross_entropy_index, val = cross_entropy_split_value(X, y, sample_weights, column, categorical)        \n",
    "    if cross_entropy_index < min_cross_entropy_index:\n",
    "        min_cross_entropy_index, split_column, split_val = cross_entropy_index, column, val\n",
    "\n",
    "  return min_cross_entropy_index, split_column, split_val"
   ]
  },
  {
   "cell_type": "code",
   "execution_count": 92,
   "metadata": {},
   "outputs": [],
   "source": [
    "def classify(tree, x):\n",
    "  \"\"\"\n",
    "  Classify a single sample with the fitted decision tree.\n",
    "  Args:\n",
    "      x: ((pd.Dataframe) a single sample features, of shape (D,).\n",
    "  Returns:\n",
    "      (int): predicted testing sample label.\n",
    "  \"\"\"\n",
    "  if tree['majority_label'] is not None: \n",
    "    return tree['majority_label']\n",
    "\n",
    "  elif tree['categorical']:\n",
    "    if x[tree['feature_index']] == tree['value']:\n",
    "      return classify(tree['left'], x)\n",
    "    else:\n",
    "      return classify(tree['right'], x)\n",
    "\n",
    "  else:\n",
    "    if x[tree['feature_index']] < tree['value']:\n",
    "      return classify(tree['left'], x)\n",
    "    else:\n",
    "      return classify(tree['right'], x)"
   ]
  },
  {
   "cell_type": "code",
   "execution_count": 93,
   "metadata": {},
   "outputs": [],
   "source": [
    "def majority_vote(y, sample_weights):\n",
    "  \"\"\"\n",
    "  Return the label which appears the most in y.\n",
    "  Args:\n",
    "      y: vector of training labels, of shape (N,).\n",
    "      sample_weights: weights for each samples, of shape (N,).\n",
    "  Returns:\n",
    "      (int): the majority label\n",
    "  \"\"\"\n",
    "  majority_label = {yi: 0 for yi in set(y)}\n",
    "\n",
    "  for yi, wi in zip(y, sample_weights):\n",
    "    majority_label[yi] += wi\n",
    "  return max(majority_label, key=majority_label.get)"
   ]
  },
  {
   "cell_type": "code",
   "execution_count": 94,
   "metadata": {},
   "outputs": [],
   "source": [
    "def build_tree_rf(n_features, X, y, sample_weights, columns_dict, feature_names, depth,  max_depth=10, min_samples_leaf=2):\n",
    "  \"\"\"Build the decision tree according to the data.\n",
    "  Args:\n",
    "      X: (np.array) training features, of shape (N, D).\n",
    "      y: (np.array) vector of training labels, of shape (N,).\n",
    "      sample_weights: weights for each samples, of shape (N,).\n",
    "      columns_dict: a dictionary mapping column indices to whether the column is categorical or numerical variable.\n",
    "      feature_names (list): record the name of features in X in the original dataset.\n",
    "      depth (int): current depth for this node.\n",
    "  Returns:\n",
    "      (dict): a dict denoting the decision tree (binary-tree). Each node has seven attributes:\n",
    "        1. 'feature_name': The column name of the split.\n",
    "        2. 'feature_index': The column index of the split.\n",
    "        3. 'value': The value used for the split.\n",
    "        4. 'categorical': indicator for categorical/numerical variables.\n",
    "        5. 'majority_label': For leaf nodes, this stores the dominant label. Otherwise, it is None.\n",
    "        6. 'left': The left sub-tree with the same structure.\n",
    "        7. 'right' The right sub-tree with the same structure.\n",
    "      Example:\n",
    "          mytree = {\n",
    "              'feature_name': 'petal length (cm)',\n",
    "              'feature_index': 2,\n",
    "              'value': 3.0,\n",
    "              'categorical': False,\n",
    "              'majority_label': None,\n",
    "              'left': {\n",
    "                  'feature_name': str,\n",
    "                  'feature_index': int,\n",
    "                  'value': float,\n",
    "                  'categorical': bool,\n",
    "                  'majority_label': None,\n",
    "                  'left': {..etc.},\n",
    "                  'right': {..etc.}\n",
    "              }\n",
    "              'right': {\n",
    "                  'feature_name': str,\n",
    "                  'feature_index': int,\n",
    "                  'value': float,\n",
    "                  'categorical': bool,\n",
    "                  'majority_label': None,\n",
    "                  'left': {..etc.},\n",
    "                  'right': {..etc.}\n",
    "              }\n",
    "          }\n",
    "  \"\"\"\n",
    "  # include a clause for the cases where (i) all lables are the same, (ii) depth exceed (iii) X is too small\n",
    "  if len(np.unique(y)) == 1 or depth>=max_depth or len(X)<=min_samples_leaf: \n",
    "      return {'majority_label': majority_vote(y, sample_weights)}\n",
    "  \n",
    "  else:\n",
    "    CE, split_index, split_val = cross_entropy_split_rf(n_features, X, y, sample_weights, columns_dict)  \n",
    "    \n",
    "    # If CE is infinity, it means that samples are not seperable by the sampled features.\n",
    "    if CE == np.inf:\n",
    "      return {'majority_label': majority_vote(y, sample_weights)}\n",
    "    categorical = columns_dict[split_index]\n",
    "    (X_l, X_r), (y_l, y_r), (w_l, w_r) = split_samples(X, y, sample_weights, split_index, split_val, categorical) \n",
    "    return {\n",
    "        'feature_name': feature_names[split_index],\n",
    "        'feature_index': split_index,\n",
    "        'value': split_val,\n",
    "        'categorical': categorical,\n",
    "        'majority_label': None,\n",
    "        'left': build_tree_rf(n_features, X_l, y_l, w_l, columns_dict, feature_names, depth + 1, max_depth, min_samples_leaf),\n",
    "        'right': build_tree_rf(n_features, X_r, y_r, w_r, columns_dict, feature_names, depth + 1, max_depth, min_samples_leaf)\n",
    "    }"
   ]
  },
  {
   "cell_type": "code",
   "execution_count": 95,
   "metadata": {},
   "outputs": [],
   "source": [
    "def train_rf(B, n_features, X, y,  columns_dict, sample_weights=None):\n",
    "  \"\"\"\n",
    "  Build the decision tree according to the training data.\n",
    "  Args:\n",
    "      B: number of decision trees.\n",
    "      X: (pd.Dataframe) training features, of shape (N, D). Each X[i] is a training sample.\n",
    "      y: (pd.Series) vector of training labels, of shape (N,). y[i] is the label for X[i], and each y[i] is\n",
    "      an integer in the range 0 <= y[i] <= C. Here C = 1.\n",
    "      columns_dict: a dictionary mapping column indices to whether the column is categorical or numerical variable.\n",
    "      sample_weights: weights for each samples, of shape (N,).\n",
    "  \"\"\"\n",
    "  if sample_weights is None:\n",
    "      # if the sample weights is not provided, we assume the samples have uniform weights\n",
    "      sample_weights = np.ones(X.shape[0]) / X.shape[0]\n",
    "  else:\n",
    "      sample_weights = np.array(sample_weights) / np.sum(sample_weights)\n",
    "\n",
    "  feature_names = X.columns.tolist()\n",
    "  X = X.to_numpy()\n",
    "  y = y.to_numpy()\n",
    "  N = X.shape[0]\n",
    "  training_indices = np.arange(N)\n",
    "  trees = []\n",
    "    \n",
    "\n",
    "  for _ in range(B):\n",
    "    np.random.seed(333)\n",
    "    sample = np.random.choice(training_indices, N, replace=True)\n",
    "    X_sample = X[sample, :]\n",
    "    y_sample = y[sample]\n",
    "    w_sample = sample_weights[sample]\n",
    "    tree = build_tree_rf(n_features, X_sample, y_sample, w_sample, columns_dict, feature_names, depth=1)\n",
    "    trees.append(tree)\n",
    "\n",
    "  return trees\n",
    "\n",
    "def predict_rf(rf, X):\n",
    "  \"\"\"\n",
    "  Predict classification results for X.\n",
    "  Args:\n",
    "      rf: A trained random forest through train_rf function.\n",
    "      X: (pd.Dataframe) testing sample features, of shape (N, D).\n",
    "  Returns:\n",
    "      (np.array): predicted testing sample labels, of shape (N,).\n",
    "  \"\"\"\n",
    "\n",
    "  def aggregate(decisions):\n",
    "    count = defaultdict(int)\n",
    "    for decision in decisions:\n",
    "      count[decision] += 1\n",
    "    return max(count, key=count.get)\n",
    "\n",
    "  if len(X.shape) == 1:\n",
    "      return aggregate([classify(tree, X) for tree in rf])\n",
    "  else:\n",
    "      return np.array([aggregate([classify(tree, x) for tree in rf]) for x in X])"
   ]
  },
  {
   "cell_type": "code",
   "execution_count": 96,
   "metadata": {},
   "outputs": [],
   "source": [
    "def rf_score(rf, X_test, y_test):\n",
    "  y_pred = predict_rf(rf, X_test) \n",
    "  return np.mean(y_pred==y_test) #random forest is evaluated on accuracy"
   ]
  },
  {
   "cell_type": "code",
   "execution_count": 97,
   "metadata": {},
   "outputs": [],
   "source": [
    "#Need to define a new cross_validation_score function as we now have two hyper-parameters\n",
    "def cross_validation_score(X_train, y_train, folds, B, n_features):\n",
    "  scores = []\n",
    "  for i in range(len(folds)):\n",
    "    val_indexes = folds[i]\n",
    "    train_indexes = list(set(range(y_train.shape[0])) - set(val_indexes))\n",
    "    \n",
    "    X_train_i = X_train.loc[train_indexes, :]\n",
    "    y_train_i = y_train.loc[train_indexes]\n",
    "    \n",
    "    rf = train_rf(B, n_features, X_train_i, y_train_i,  columns_dict, sample_weights=None)\n",
    "\n",
    "    X_val_i = X_train.loc[val_indexes, :]\n",
    "    y_val_i = y_train.loc[val_indexes]\n",
    "\n",
    "    score_i = rf_score(rf ,X_val_i.to_numpy(), y_val_i.to_numpy()) \n",
    "    scores.append(score_i)\n",
    "\n",
    "  # Return the average score\n",
    "  return sum(scores) / len(scores) "
   ]
  },
  {
   "cell_type": "code",
   "execution_count": 98,
   "metadata": {},
   "outputs": [],
   "source": [
    "from numpy import unravel_index\n",
    "def choose_best_k(X_train, y_train, folds, B_range, n_features_range):\n",
    "  from numpy import unravel_index\n",
    "  k_scores = np.zeros((len(B_range),len(n_features_range)))\n",
    "  \n",
    "  for i, k in enumerate(B_range):\n",
    "        for j, l in enumerate(n_features_range):\n",
    "            k_scores[i, j] = cross_validation_score(X_train, y_train, folds, k, l)\n",
    "            print(f'CV_ACC@B,n_features={k, l}: {k_scores[i, j]:.3f}')\n",
    "            \n",
    "  a = unravel_index(k_scores.argmax(), k_scores.shape) \n",
    "  best_B_values = B_range[a[0]] #selects number of trees that maximises accuracy\n",
    "  best_n_features_value = n_features_range[a[1]] # selects depth of tree that maximises accuracy\n",
    "  return best_B_values, best_n_features_value"
   ]
  },
  {
   "cell_type": "code",
   "execution_count": null,
   "metadata": {},
   "outputs": [],
   "source": [
    "B_range= np.arange(1, 5)\n",
    "n_features_range = np.arange(1,10) \n",
    "best_B_value, best_n_features_value = choose_best_k(X_train_df, y_train_df, folds_indexes, B_range, n_features_range)"
   ]
  },
  {
   "cell_type": "markdown",
   "metadata": {},
   "source": [
    "CV_ACC@B,n_features=(1, 1): 0.948 \\\n",
    "CV_ACC@B,n_features=(1, 2): 0.960 \\\n",
    "CV_ACC@B,n_features=(1, 3): 0.961 \\\n",
    "CV_ACC@B,n_features=(1, 4): 0.968 \\\n",
    "CV_ACC@B,n_features=(1, 5): 0.967 \\\n",
    "CV_ACC@B,n_features=(1, 6): 0.970 \\\n",
    "CV_ACC@B,n_features=(1, 7): 0.967 \\\n",
    "CV_ACC@B,n_features=(1, 8): 0.968 \\\n",
    "CV_ACC@B,n_features=(1, 9): 0.970 \\\n",
    "CV_ACC@B,n_features=(2, 1): 0.954 \\\n",
    "CV_ACC@B,n_features=(2, 2): 0.960 \\\n",
    "CV_ACC@B,n_features=(2, 3): 0.963 \\\n",
    "CV_ACC@B,n_features=(2, 4): 0.972 \\\n",
    "CV_ACC@B,n_features=(2, 5): 0.965 \\\n",
    "CV_ACC@B,n_features=(2, 6): 0.967 \\\n",
    "CV_ACC@B,n_features=(2, 7): 0.970 \\\n",
    "CV_ACC@B,n_features=(2, 8): 0.969 \\\n",
    "CV_ACC@B,n_features=(2, 9): 0.973 \\\n",
    "CV_ACC@B,n_features=(3, 1): 0.971 \\\n",
    "CV_ACC@B,n_features=(3, 2): 0.974 \\\n",
    "CV_ACC@B,n_features=(3, 3): 0.975 \\\n",
    "CV_ACC@B,n_features=(3, 4): 0.982 \\\n",
    "CV_ACC@B,n_features=(3, 5): 0.979 \\\n",
    "CV_ACC@B,n_features=(3, 6): 0.983 \\\n",
    "CV_ACC@B,n_features=(3, 7): 0.976 \\\n",
    "CV_ACC@B,n_features=(3, 8): 0.982 \\\n",
    "CV_ACC@B,n_features=(3, 9): 0.981 \\\n",
    "CV_ACC@B,n_features=(4, 1): 0.972 \\\n",
    "CV_ACC@B,n_features=(4, 2): 0.976 \\\n",
    "CV_ACC@B,n_features=(4, 3): 0.979 \\\n",
    "CV_ACC@B,n_features=(4, 4): 0.978 \\\n",
    "CV_ACC@B,n_features=(4, 5): 0.981 \\\n",
    "CV_ACC@B,n_features=(4, 6): 0.982 \\\n",
    "CV_ACC@B,n_features=(4, 7): 0.979 \\\n",
    "CV_ACC@B,n_features=(4, 8): 0.981 \\\n",
    "CV_ACC@B,n_features=(4, 9): 0.976 "
   ]
  },
  {
   "cell_type": "markdown",
   "metadata": {},
   "source": [
    "Clearly from the print out above we can see that the accuracy is maximum at (3, 6). Here we obtain the highest accuracy of 0.983 over all number of trees and depth of trees in my range that i implemented 5-fold cross validation over. "
   ]
  },
  {
   "cell_type": "code",
   "execution_count": 100,
   "metadata": {
    "scrolled": true
   },
   "outputs": [
    {
     "name": "stdout",
     "output_type": "stream",
     "text": [
      "Using cross-validation the best number of trees is : 3\n",
      "Using cross-validation the best depth of trees is : 6\n"
     ]
    }
   ],
   "source": [
    "print('Using cross-validation the best number of trees is :', best_B_value)\n",
    "print('Using cross-validation the best depth of trees is :', best_n_features_value)"
   ]
  },
  {
   "cell_type": "markdown",
   "metadata": {},
   "source": [
    "### 2.2.2 \n",
    "In this section I will compare the performance of the optimal random forest on the training data set and test data set using confusion matrix and other metrics. "
   ]
  },
  {
   "cell_type": "code",
   "execution_count": 101,
   "metadata": {},
   "outputs": [],
   "source": [
    "rf = train_rf(best_B_value, best_n_features_value, X_train_df, y_train_df, columns_dict) # building a random forest from training data using optimal hyper-parameters"
   ]
  },
  {
   "cell_type": "code",
   "execution_count": 102,
   "metadata": {},
   "outputs": [],
   "source": [
    "y_pred = predict_rf(rf, X_train) # using the optimal random forest getting predictions on training inputs"
   ]
  },
  {
   "cell_type": "code",
   "execution_count": 103,
   "metadata": {},
   "outputs": [],
   "source": [
    "def confusion_matrix(y_true, y_pred):\n",
    "    y_true_malignant = y_true == 1\n",
    "    y_true_benign = y_true == 0\n",
    "    y_pred_malignant = y_pred == 1\n",
    "    y_pred_benign = y_pred == 0\n",
    "    \n",
    "    tp = np.sum(y_true_malignant & y_pred_malignant) # true positives\n",
    "    tn = np.sum(y_true_benign & y_pred_benign) # true negatives\n",
    "    fp = np.sum(y_pred_malignant & y_true_benign) # false positives\n",
    "    fn = np.sum(y_pred_benign &  y_true_malignant) # false negatives\n",
    "    \n",
    "    recall = tp/(tp + fn) #recall calculation using formula\n",
    "    precision = tp/(tp + fp) #precision calculation using formula\n",
    "    accuracy = (tp + tn)/len(y_true) #accuracy calculation using formula\n",
    "    f_1_score = 2*precision*recall/(precision+recall) #f1 score calculation using formula\n",
    "    \n",
    "    print('Confusion matrix:')\n",
    "    table = pd.DataFrame(\n",
    "    {'': ['actual malignant', 'actual benign'],\n",
    "     'predicted malignant': [tp, fp],\n",
    "     'predicted benign': [fn, tn]\n",
    "    })\n",
    "    \n",
    "    table = table.set_index('')\n",
    "    print(table)\n",
    "    \n",
    "    print('Normalised confusion matrix:')\n",
    "    table = pd.DataFrame(\n",
    "    {'': ['actual malignant', 'actual benign'],\n",
    "     'predicted malignant': [tp/len(y_true), fp/len(y_true)],\n",
    "     'predicted benign': [fn/len(y_true), tn/len(y_true)]\n",
    "    })\n",
    "    \n",
    "    table = table.set_index('')\n",
    "    print(table)\n",
    "    \n",
    "    print('\\n recall:', recall , ', precision:', precision,', accuracy:', accuracy, ', f-1 score:', f_1_score)"
   ]
  },
  {
   "cell_type": "code",
   "execution_count": 104,
   "metadata": {
    "scrolled": false
   },
   "outputs": [
    {
     "name": "stdout",
     "output_type": "stream",
     "text": [
      "For our training set\n",
      "Confusion matrix:\n",
      "                  predicted malignant  predicted benign\n",
      "                                                       \n",
      "actual malignant                  402                22\n",
      "actual benign                      10              2132\n",
      "Normalised confusion matrix:\n",
      "                  predicted malignant  predicted benign\n",
      "                                                       \n",
      "actual malignant             0.156664          0.008574\n",
      "actual benign                0.003897          0.830865\n",
      "\n",
      " recall: 0.9481132075471698 , precision: 0.9757281553398058 , accuracy: 0.9875292283710054 , f-1 score: 0.9617224880382775\n"
     ]
    }
   ],
   "source": [
    "#on the data set tumour_samples.csv\n",
    "print('For our training set')\n",
    "confusion_matrix(y_train, y_pred)"
   ]
  },
  {
   "cell_type": "code",
   "execution_count": 105,
   "metadata": {
    "scrolled": true
   },
   "outputs": [
    {
     "name": "stdout",
     "output_type": "stream",
     "text": [
      "Confusion matrix:\n",
      "                  predicted malignant  predicted benign\n",
      "                                                       \n",
      "actual malignant                   68                 5\n",
      "actual benign                       1               126\n",
      "Normalised confusion matrix:\n",
      "                  predicted malignant  predicted benign\n",
      "                                                       \n",
      "actual malignant                0.340             0.025\n",
      "actual benign                   0.005             0.630\n",
      "\n",
      " recall: 0.9315068493150684 , precision: 0.9855072463768116 , accuracy: 0.97 , f-1 score: 0.9577464788732394\n"
     ]
    }
   ],
   "source": [
    "#on the data set tumour_test.csv\n",
    "y_pred = predict_rf(rf, X_test)\n",
    "confusion_matrix(y_test, y_pred)"
   ]
  },
  {
   "cell_type": "markdown",
   "metadata": {},
   "source": [
    "Since our context is predicting whether a tumour is benign or malignant. What is most important is that we don't predict benign for a malignant tumour as this can delay treatment and have catastrophic results. I would comment that our model on unseen test data had a false negative ratio of 0.025, which is only 2.5 per cent. However, this is about 3 times the false negative ratio of the training set. This does suggest that our model is overfitting to the training data (I will argue later using F-1, why the model isn't overfitting to training data). Further evidenced as the accuracy on the training set is ~0.988, however, the accuracy on the test set is lower at 0.97. I would comment that this isn't a large difference which could just be due to the randomness in the algorithm. I would comment that regardless the test set has a very large degree of accuracy. "
   ]
  },
  {
   "cell_type": "markdown",
   "metadata": {},
   "source": [
    "The recall for the test set is still quite high at 0.93, however, it is about 0.4 lower than that on the training set. Hence our model is worse at predicting teh true positive (malignant cases) over unseen data.\n",
    "\n",
    "The precision for test data is higher than training data. Test data precision stands at 1. This means out of the cases that our model did predict as malignant, we can confidently say all of them were infact malignant. Hence our model predictions for malignant tumours is trustworthy. \n",
    "\n",
    "The F-1 score is a harmonic mean of recall and precision. This metric works better for unbalanced datasets such as ours. We have many more benign tumours in our data than we do malignant ones. This metric also takes into account that a false negative has a different cost to a false positive in our tumour predictions. Hence I will use this metric over the accuracy of our datasets. The F-1 score of the test and training set are both very close with a difference of ~ 0.01 and higher than 0.95. Hence I would conclude that our random forest is generalisable and isn't overfitting or underfitting to our training data. "
   ]
  },
  {
   "cell_type": "markdown",
   "metadata": {
    "id": "vfN9uz1qy1L4"
   },
   "source": [
    "<a name=\"q23\"></a>\n",
    "\n",
    "## 2.3 [^](#outline) Support vector machine (SVM)\n",
    "\n",
    "The basic idea of the SVM model is that it is a representation of training data as points in space (of various dimensions), mapped so that the data of the separate categories are divided by a clear gap that is as wide as possible. \n",
    "\n",
    "In prediction, the unseen inputs are then mapped into the same space and predicted to belong to a category based on which region (in 2 dimensions, which side of gap) they fall on. \n",
    "\n",
    "Hard-margin SVM is formulated in such a way that the data points need to be separable in d-dimensional space. Often this isn't possible hence we use soft-margin SVM when such a strictly separating hyperplane doesn't exist. In this, we score the quality of the hyperplane by penalising the violations for our separating hyperplane."
   ]
  },
  {
   "cell_type": "markdown",
   "metadata": {},
   "source": [
    "### 2.3.1\n",
    "In this section I will train soft margin SVM classifier on training data set using 5-fold cross-validation subsets to optimise the hardness hyper-parameter."
   ]
  },
  {
   "cell_type": "code",
   "execution_count": 106,
   "metadata": {},
   "outputs": [],
   "source": [
    "# I add column of ones on alreday standardised data as standardising ones will give divide by 0 error.\n",
    "X_train_df['intercept'] = np.ones(len(y_train)) # augmented training inputs to allow for intercept term\n",
    "X_test_df['intercept'] = np.ones(len(y_test))  # augmented test inputs to allow for intercept term\n",
    "\n",
    "#We change Benign cells to have value -1.0 from 0 as y=1 or y=-1 in SVM classifier\n",
    "y_train_df = y_train_df.replace(0, -1.0) \n",
    "y_test_df = y_train_df.replace(0, -1.0)\n",
    "y_train[y_train == 0]= -1.0\n",
    "y_test[y_test == 0]= -1.0\n",
    "\n",
    "y_train_float = y_train.astype(float)\n",
    "y_test_float = y_test.astype(float)"
   ]
  },
  {
   "cell_type": "code",
   "execution_count": 107,
   "metadata": {},
   "outputs": [],
   "source": [
    "#changing dataframe objects into numpy arrays to get rid of category names. \n",
    "X_train = X_train_df.to_numpy()\n",
    "X_test = X_test_df.to_numpy()"
   ]
  },
  {
   "cell_type": "markdown",
   "metadata": {},
   "source": [
    "Below we will define the soft margin SVM loss function:\n",
    "$$\n",
    "\\mathcal L (\\boldsymbol w) = \\frac{1}{2} \\| \\boldsymbol w \\|^2 + \\frac{\\lambda}{n} \\sum_{i=1}^n Hinge \\space loss_{i} .\n",
    "$$\n",
    "Where,\n",
    "$$Hinge \\space loss_{i}=\\max \\bigg( 0, \\underbrace{ 1-y_i (\\boldsymbol w \\cdot x_i + b)}_{size \\space of \\space voilation} \\bigg) \\,$$\n",
    "\n",
    "$\\boldsymbol w$ is the vector of weights, $\\lambda$ the hardness parameter, and $b$ the intercept which is included in our `X` as an additional column of $1$'s.\n",
    "\n",
    "$\\lambda$ allows us to tune how hard teh boundaries can be, allowing for larger or smaller voilations of the contraint.\n",
    "\n",
    "SVM classifier says that the size of voilation is $\\leq 0$ for all points if there is no voilation of constraints and vice versa. "
   ]
  },
  {
   "cell_type": "code",
   "execution_count": 108,
   "metadata": {},
   "outputs": [],
   "source": [
    "def compute_cost(w, X, y, hardness_strength=1e5):\n",
    "  n = X.shape[0]\n",
    "  distances = 1 - y * (X @ w)   #calculates size of voilation\n",
    "  distances[distances < 0] = 0  # equivalent to max(0, distance)\n",
    "  hinge =  distances.mean()  #mean of hinge loss \n",
    "    \n",
    "  # calculate cost\n",
    "  return 0.5 * np.dot(w, w) + hardness_strength * hinge #computes cost"
   ]
  },
  {
   "cell_type": "code",
   "execution_count": 109,
   "metadata": {},
   "outputs": [],
   "source": [
    "#We will use stochastic gradient descent to optimise cost.\n",
    "#Hence need a gradient descent function \n",
    "def calculate_cost_gradient(w, X_batch, y_batch, hardness_strength=1e5):\n",
    "  # if only one example is passed\n",
    "  if type(y_batch) == np.float64:\n",
    "      y_batch = np.asarray([y_batch])\n",
    "      X_batch = np.asarray([X_batch])  # gives multidimensional array\n",
    "\n",
    "  distance = 1 - (y_batch * (X_batch @ w)) #size of voilation\n",
    "  dw = np.zeros(len(w))\n",
    "\n",
    "  for ind, d in enumerate(distance):\n",
    "      if max(0, d)==0:\n",
    "          di = w\n",
    "      else:\n",
    "          #below we use hardness parameter as learning rate, new w = old w - hardness* gradient of hinge loss\n",
    "          di = w - (hardness_strength * y_batch[ind] * X_batch[ind])\n",
    "      dw += di # updating weight\n",
    "\n",
    "  return dw/len(y_batch)  # average "
   ]
  },
  {
   "cell_type": "code",
   "execution_count": 110,
   "metadata": {},
   "outputs": [],
   "source": [
    "def sgd(X, y, max_iterations=2000, stop_criterion=0.01, learning_rate=1e-5, hardness_strength=1e5, print_outcome=False):\n",
    "  # initialise zero weights\n",
    "  weights = np.zeros(X.shape[1])\n",
    "  nth = 0\n",
    "  # initialise starting cost as infinity\n",
    "  prev_cost = np.inf\n",
    "  \n",
    "  # stochastic gradient descent\n",
    "  indices = np.arange(len(y))\n",
    "  for iteration in range(1, max_iterations):\n",
    "    # shuffle to prevent repeating update cycles\n",
    "    np.random.seed(333)\n",
    "    np.random.shuffle(indices)\n",
    "    X, y = X[indices], y[indices]\n",
    "    for xi, yi in zip(X, y):\n",
    "      ascent = calculate_cost_gradient(weights, xi, yi, hardness_strength) \n",
    "      weights = weights - (learning_rate * ascent)\n",
    "\n",
    "    # convergence check on 2^n'th iteration\n",
    "    if iteration==2**nth or iteration==max_iterations-1:\n",
    "      # compute cost\n",
    "      cost = compute_cost(weights, X, y, hardness_strength) \n",
    "      if print_outcome:\n",
    "        print(\"Iteration is: {}, Cost is: {}\".format(iteration, cost))\n",
    "      # stop criterion\n",
    "      if abs(prev_cost - cost) < stop_criterion * prev_cost:\n",
    "        return weights\n",
    "        \n",
    "      prev_cost = cost\n",
    "      nth += 1\n",
    "  \n",
    "  return weights"
   ]
  },
  {
   "cell_type": "code",
   "execution_count": 111,
   "metadata": {
    "scrolled": true
   },
   "outputs": [
    {
     "name": "stdout",
     "output_type": "stream",
     "text": [
      "Iteration is: 1, Cost is: 47.988696761969706\n",
      "Iteration is: 2, Cost is: 39.913994778639406\n",
      "Iteration is: 4, Cost is: 37.075909027294124\n",
      "Iteration is: 8, Cost is: 39.07755355660153\n",
      "Iteration is: 16, Cost is: 34.43255955412561\n",
      "Iteration is: 32, Cost is: 34.541523311826076\n",
      "Training finished.\n"
     ]
    }
   ],
   "source": [
    "# train the model\n",
    "w = sgd(X_train, y_train_float, max_iterations=2000, stop_criterion=0.01, learning_rate=1e-5, hardness_strength=1e3, print_outcome=True)\n",
    "print(\"Training finished.\")"
   ]
  },
  {
   "cell_type": "markdown",
   "metadata": {},
   "source": [
    "The above confirms correct implementation as the cost function is generally decreasing. There are some fluctuations and this can be explained by the randomness in the stochastic gradient descent method."
   ]
  },
  {
   "cell_type": "code",
   "execution_count": 112,
   "metadata": {},
   "outputs": [],
   "source": [
    "def score(w, X, y):\n",
    "  y_preds = np.sign(X @ w) # predictions\n",
    "  return np.mean(y_preds == y) # scored on accuracy"
   ]
  },
  {
   "cell_type": "code",
   "execution_count": 113,
   "metadata": {},
   "outputs": [],
   "source": [
    "def cross_val_evaluate(data, folds, hardness):\n",
    "  train_scores = []\n",
    "  val_scores = []\n",
    "  \n",
    "  for i in range(len(folds)):\n",
    "    val_indices = folds[i] # define validation set indices from fold\n",
    "    # define the training set indices\n",
    "    train_indices = list(set(range(data.shape[0])) - set(val_indices))\n",
    "    \n",
    "    # define the train set\n",
    "    X_train = data.iloc[train_indices,  :-1] \n",
    "    y_train = data.iloc[train_indices, -1]\n",
    "    \n",
    "    # define the validation set\n",
    "    X_val = data.iloc[val_indices,  :-1] \n",
    "    y_val = data.iloc[val_indices, -1] \n",
    "\n",
    "    # train the model\n",
    "    w = sgd(X_train.to_numpy(), y_train.to_numpy().astype(float), max_iterations=1025, stop_criterion=0.01, learning_rate=1e-5, hardness_strength=hardness)\n",
    "\n",
    "    # evaluate\n",
    "    train_score = score(w, X_train, y_train.to_numpy().astype(float)) #accuracy on training set\n",
    "    val_score = score(w, X_val, y_val.to_numpy().astype(float)) #accuracy on validation set\n",
    "\n",
    "    train_scores.append(train_score)\n",
    "    val_scores.append(val_score)\n",
    "\n",
    "  return train_scores, val_scores # "
   ]
  },
  {
   "cell_type": "code",
   "execution_count": 114,
   "metadata": {
    "scrolled": true
   },
   "outputs": [
    {
     "name": "stdout",
     "output_type": "stream",
     "text": [
      "The 5-fold cross validation for hardness 1000 took : 0:00:06.808397 to run\n",
      "Mean accuracy on train sets for hardness 1000 using 5-fold cross validation: 0.9906470253677165\n",
      "Mean accuracy on validation sets for hardness 1000 using 5-fold cross validation: 0.9867491903125734\n"
     ]
    }
   ],
   "source": [
    "train = pd.concat([X_train_df, y_train_df], axis=1)\n",
    "a = datetime.datetime.now()\n",
    "train_scores, val_scores = cross_val_evaluate(train, folds_indexes, hardness=1e3)\n",
    "b = datetime.datetime.now()\n",
    "print('The 5-fold cross validation for hardness 1000 took :', b-a, 'to run')\n",
    "print(\"Mean accuracy on train sets for hardness 1000 using 5-fold cross validation: {}\".format(np.mean(train_scores)))\n",
    "print(\"Mean accuracy on validation sets for hardness 1000 using 5-fold cross validation: {}\".format(np.mean(val_scores)))"
   ]
  },
  {
   "cell_type": "code",
   "execution_count": 115,
   "metadata": {},
   "outputs": [
    {
     "name": "stdout",
     "output_type": "stream",
     "text": [
      "The 5-fold cross validation for hardness 0.001 took : 0:00:00.496042 to run\n",
      "Mean accuracy on train sets for hardness 0.001 using 5-fold cross validation: 0.8538585192211464\n",
      "Mean accuracy on validation sets for hardness 0.001 using 5-fold cross validation: 0.852696050545733\n"
     ]
    }
   ],
   "source": [
    "a = datetime.datetime.now()\n",
    "train = pd.concat([X_train_df, y_train_df], axis=1)\n",
    "train_scores, val_scores = cross_val_evaluate(train, folds_indexes, hardness=1e-3)\n",
    "b = datetime.datetime.now()\n",
    "print('The 5-fold cross validation for hardness 0.001 took :', b-a, 'to run')\n",
    "print(\"Mean accuracy on train sets for hardness 0.001 using 5-fold cross validation: {}\".format(np.mean(train_scores)))\n",
    "print(\"Mean accuracy on validation sets for hardness 0.001 using 5-fold cross validation: {}\".format(np.mean(val_scores)))"
   ]
  },
  {
   "cell_type": "markdown",
   "metadata": {},
   "source": [
    "The above printout for hardness 1000 and 0.001 seem realistic. It makes sense that a greater hardness provides a more accurate model as violations are penalised more. This also gives me an idea of what range I should optimise hardness over. \n",
    "\n",
    "Since the mean accuracy on train sets and mean accuracy on validation sets are very close, this is a strong indicator that our model isnt over fitting.\n",
    "\n",
    "The cross-validation algorithm takes longer to run for larger hardness.\n",
    "\n",
    "I tried increasing the number of folds to 6 and 7. However, on balance I prefer the higher efficiency of using 5-fold. \n",
    "Increasing number of folds means less bias towards overestimating the true expected error (as training folds will be closer to the total dataset) but higher variance in the SVM estimator and higher running time (as you are getting closer to the limit case: cross-validation set has only 1 value)."
   ]
  },
  {
   "cell_type": "code",
   "execution_count": 116,
   "metadata": {},
   "outputs": [],
   "source": [
    "def choose_best_hardness(data, folds, hardness_range):\n",
    "  train_scores_mean = np.zeros((len(hardness_range),))\n",
    "  val_scores_mean = np.zeros((len(hardness_range),))\n",
    "  for i, k in enumerate(hardness_range):\n",
    "    train_scores, val_scores = cross_val_evaluate(data, folds, k)\n",
    "    train_scores_mean[i], val_scores_mean[i] = np.mean(train_scores), np.mean(val_scores)\n",
    "    \n",
    "  return train_scores_mean, val_scores_mean"
   ]
  },
  {
   "cell_type": "code",
   "execution_count": 117,
   "metadata": {
    "scrolled": true
   },
   "outputs": [
    {
     "name": "stdout",
     "output_type": "stream",
     "text": [
      "We will be optimising hardness over the range 0.1 to 4.9 inclusive with interval 0.2\n",
      "The optimal hardness parameter from the 5-fold cross-validation is  4.500000000000001\n"
     ]
    }
   ],
   "source": [
    "print('We will be optimising hardness over the range 0.1 to 4.9 inclusive with interval 0.2')\n",
    "hardness_range= np.arange(0.1, 5.1, 0.2)\n",
    "train = pd.concat([X_train_df, y_train_df], axis=1)\n",
    "train_scores_mean, val_scores_mean  = choose_best_hardness(train, folds_indexes, hardness_range)\n",
    "print('The optimal hardness parameter from the 5-fold cross-validation is ', hardness_range[np.argmax(val_scores_mean)])"
   ]
  },
  {
   "cell_type": "code",
   "execution_count": 118,
   "metadata": {},
   "outputs": [],
   "source": [
    "w =[] \n",
    "scores = []\n",
    "for i, k in enumerate(hardness_range):\n",
    "    #get weights of the SVM for different hardness strength\n",
    "    w.append(sgd(X_train, y_train_float, max_iterations=2000, stop_criterion=0.01, learning_rate=1e-5, hardness_strength=k, print_outcome=False))\n",
    "    scores.append(score(w[i], X_train, y_train_float)) #accuracy in prediction for different hardness strength"
   ]
  },
  {
   "cell_type": "code",
   "execution_count": 119,
   "metadata": {},
   "outputs": [
    {
     "data": {
      "image/png": "[encoded data removed]",
      "text/plain": [
       "<Figure size 432x288 with 1 Axes>"
      ]
     },
     "metadata": {
      "needs_background": "light"
     },
     "output_type": "display_data"
    }
   ],
   "source": [
    "plt.plot(hardness_range, scores)\n",
    "plt.ylabel('Accuracy on whole unbalanced train set', size=10)\n",
    "plt.xlabel('hardness hyper-parameter', size=10)\n",
    "plt.title('For model trained on unbalanced dataset', size=15);"
   ]
  },
  {
   "cell_type": "markdown",
   "metadata": {},
   "source": [
    "I have plotted the above graph over many hardness ranges. I have found that in general the bigger the hardness, the more accurate the model, although the rate of increase in accuracy starts to decrease to increasing hardness.\n",
    "\n",
    "Low hardness is less accurate as it isn't perfectly splitting. As the hardness tends to 0, we are no longer penalising data for violating the constraints. This means we will be predicting the classes randomly for data points. Hence the model will have an equal probability of assigning malignant or benign to an input. Hence the accuracy will be 50% for a balanced data set and less for an unbalanced one.\n",
    "\n",
    "High hardness is more accurate as we are now penalising the size of violations more in our model training, hence it's more accurate. In its limit, it approaches Hard-margin SVM which has accuracy 1. Not all classification data can be linearly separable hence increasing hardness too much can make my data unclassifiable.\n",
    "\n",
    "After a certain hardness parameter, the accuracy starts to stabilise. Here increasing the accuracy any further doesn't improve the model significantly and just leads to a more inefficient training of the model. "
   ]
  },
  {
   "cell_type": "markdown",
   "metadata": {},
   "source": [
    "### 2.3.2 \n",
    "In this section, I predict on the test set using the same range of hardness values as tested in the previous section. I will then plot the ROC curve for different hardness parameters to select the optimal."
   ]
  },
  {
   "cell_type": "code",
   "execution_count": 120,
   "metadata": {},
   "outputs": [],
   "source": [
    "w =[] \n",
    "scores = []\n",
    "for i, k in enumerate(hardness_range):\n",
    "    #get weights of the SVM for different hardness strength\n",
    "    w.append(sgd(X_train, y_train_float, max_iterations=2000, stop_criterion=0.01, learning_rate=1e-5, hardness_strength=k, print_outcome=False))\n",
    "    scores.append(score(w[i], X_test, y_test_float)) #accuracy in prediction for different hardness strength"
   ]
  },
  {
   "cell_type": "code",
   "execution_count": 121,
   "metadata": {
    "scrolled": false
   },
   "outputs": [
    {
     "data": {
      "image/png": "[encoded data removed]",
      "text/plain": [
       "<Figure size 432x288 with 1 Axes>"
      ]
     },
     "metadata": {
      "needs_background": "light"
     },
     "output_type": "display_data"
    }
   ],
   "source": [
    "plt.plot(hardness_range, scores)\n",
    "plt.ylabel('Accuracy on test set', size=10)\n",
    "plt.xlabel('hardness hyper-parameter', size=10)\n",
    "plt.title('For model trained on unbalanced dataset', size=15);"
   ]
  },
  {
   "cell_type": "markdown",
   "metadata": {},
   "source": [
    "This shows that the accuracy of our SVM model increases sharply when the penalty is small on the test data. However, it starts to fluctuate around 0.96 accuracies and the graph isn't as smooth as the earlier curve for training data. This is because of the variance in our SVM estimator and that our test set (~200 points) is about 93% smaller than the training set hence there aren't simple enough points to predict to get an accurate accuracy estimate of the model on unseen data. "
   ]
  },
  {
   "cell_type": "code",
   "execution_count": 122,
   "metadata": {},
   "outputs": [],
   "source": [
    "def roc_curve(y_true, y_log):\n",
    "    y_true_malignant = y_true == 1 #actually malignant\n",
    "    y_true_benign = y_true == -1 #actually benign\n",
    "    y_log_malignant = y_log == 1 #predicted malignant\n",
    "    y_log_benign = y_log == -1 #predicted benign\n",
    "    \n",
    "    tp = np.sum(y_true_malignant & y_log_malignant) # true positives\n",
    "    tn = np.sum(y_true_benign & y_log_benign) # true negatives\n",
    "    fp = np.sum(y_log_malignant & y_true_benign) # false positives\n",
    "    fn = np.sum(y_log_benign &  y_true_malignant) # false negatives\n",
    "    \n",
    "    tpr = tp / (tp + fn) #true positive rate\n",
    "    fpr = fp / (tn + fp) #true negative rate        \n",
    "    \n",
    "    return tpr, fpr"
   ]
  },
  {
   "cell_type": "code",
   "execution_count": 123,
   "metadata": {},
   "outputs": [],
   "source": [
    "tpr, fpr = np.zeros(len(w)), np.zeros(len(w))\n",
    "for i, k in enumerate(w):\n",
    "    new_ypred = np.array(np.sign(X_test @ k)) #gets predictions based on sample weights of each model\n",
    "    tpr[i], fpr[i] = roc_curve(y_test, new_ypred) #plot ROC curve for each model"
   ]
  },
  {
   "cell_type": "code",
   "execution_count": 124,
   "metadata": {},
   "outputs": [
    {
     "data": {
      "image/png": "[encoded data removed]",
      "text/plain": [
       "<Figure size 864x576 with 1 Axes>"
      ]
     },
     "metadata": {
      "needs_background": "light"
     },
     "output_type": "display_data"
    }
   ],
   "source": [
    "#plotting the ROC\n",
    "plt.figure(figsize=(12,8))\n",
    "plt.plot(fpr, tpr, 'o')\n",
    "plt.ylabel('TPR', size=20)\n",
    "plt.xlabel('FPR', size=20)\n",
    "plt.title(f\"Receiver Operating Curve\", size=20)\n",
    "plt.plot([0, 1], [0, 1],'r--')\n",
    "plt.xlim([0, 1])\n",
    "plt.ylim([0, 1])\n",
    "plt.show()"
   ]
  },
  {
   "cell_type": "markdown",
   "metadata": {},
   "source": [
    "The above ROC curve isn't very clear so below we will zoom in to where the points are to find the optimal penalty. Some points are also overlapping hence we will try to identify where this is happening by using a more translucent point plot."
   ]
  },
  {
   "cell_type": "code",
   "execution_count": 126,
   "metadata": {
    "scrolled": false
   },
   "outputs": [
    {
     "data": {
      "image/png": "[encoded data removed]",
      "text/plain": [
       "<Figure size 720x504 with 1 Axes>"
      ]
     },
     "metadata": {
      "needs_background": "light"
     },
     "output_type": "display_data"
    }
   ],
   "source": [
    "#Zooming into ROC to area of interest and adding hardness hyper-parameter labels\n",
    "fig, ax = plt.subplots(figsize=(10, 7))\n",
    "ax.scatter(fpr, tpr, marker='o', alpha=0.3)\n",
    "plt.ylabel('TPR', size=10)\n",
    "plt.xlabel('FPR', size=10)\n",
    "plt.title(f\"Receiver Operating Curve of different models optimised over labelled hardness\", size=15)\n",
    "plt.plot([0, 1], [0, 1],'r--')\n",
    "plt.xlim([0, 0.25])\n",
    "plt.ylim([0.85, 1])\n",
    "for i, txt in enumerate(hardness_range):\n",
    "    ax.annotate(round(txt, 7), (fpr[i], tpr[i]), fontsize=20)\n",
    "plt.show()"
   ]
  },
  {
   "cell_type": "markdown",
   "metadata": {},
   "source": [
    "Some models have the same true positive rate and false positive rate and hence overlapping of points exists in the curve above. "
   ]
  },
  {
   "cell_type": "markdown",
   "metadata": {},
   "source": [
    "In cancer terms, the true positive rate is more important than the false-positive rate. We want to spot all positive cancer cases early even if it means some of the positives were false as further tests can make sure false positive patients aren't given cancer treatment. However, if a Malignant tumour is falsely identified, it can lead to the death of a patient without cancer treatment. From my ROC curve, it is clear that I should choose the point with the largest TPR and lowest FPR but to strike a balance having a larger TPR is more important than having a small FPR. Therefore from looking at the above curve I select the hardness hyper-parameter to be 0.7.\n",
    "\n",
    "I would also like to comment that this optimal is much better than optimal hardness parameter of 4.7, which was found by cross validation. From the curve above we can see that hardness of 0.7 has a larger TPR by about 0.1 than hardness of 4.7. This is significant even if it comes with an increase in FPR by ~0.7. Hence overall I select the optimal hardness to be 0.7."
   ]
  },
  {
   "cell_type": "markdown",
   "metadata": {},
   "source": [
    "### 2.3.3 "
   ]
  },
  {
   "cell_type": "code",
   "execution_count": 127,
   "metadata": {},
   "outputs": [],
   "source": [
    "df1= pd.read_csv('tumour_samples_bal.csv') # reading in balanced train data set file\n",
    "\n",
    "# convert categorical labels to numbers\n",
    "diag_map = {'M': 1, 'B': -1}\n",
    "df1['DIAGNOSIS'] = df1['DIAGNOSIS'].map(diag_map)\n",
    "\n",
    "X_train_df = df1.iloc[:,:-1].drop(df1.columns[0], axis=1) #seperate predictor features\n",
    "y_train_df = df1.iloc[:,-1] # seperate target feature"
   ]
  },
  {
   "cell_type": "code",
   "execution_count": 128,
   "metadata": {},
   "outputs": [],
   "source": [
    "mu = np.mean(X_train_df, 0) # computes the mean on X train set over the columns\n",
    "sigma = np.std(X_train_df, 0) # computes the standard deviation on X train set over the columns\n",
    "\n",
    "X_train_df = standardise(X_train_df, mu, sigma) # scale and centre the X train set"
   ]
  },
  {
   "cell_type": "code",
   "execution_count": 129,
   "metadata": {},
   "outputs": [],
   "source": [
    "X_train_df['intercept'] = np.ones(len(y_train_df)) # augmented training inputs to allow for intercept term"
   ]
  },
  {
   "cell_type": "code",
   "execution_count": 130,
   "metadata": {},
   "outputs": [],
   "source": [
    "# shuffling the rows in X and y\n",
    "p = np.random.permutation(len(y_train_df))\n",
    "X_train_df = X_train_df.take(p)\n",
    "y_train_df = y_train_df.take(p)\n",
    "\n",
    "# Now we have a list of five index arrays, each correspond to one of the five folds.\n",
    "folds_indexes = np.array_split(np.arange(len(y_train_df)), 5)"
   ]
  },
  {
   "cell_type": "code",
   "execution_count": 131,
   "metadata": {},
   "outputs": [],
   "source": [
    "X_train = X_train_df.to_numpy() #converting datarame to numpy array\n",
    "y_train = y_train_df.to_numpy() #converting datarame to numpy array\n",
    "\n",
    "y_train_float = y_train.astype(float)"
   ]
  },
  {
   "cell_type": "code",
   "execution_count": 132,
   "metadata": {},
   "outputs": [
    {
     "name": "stdout",
     "output_type": "stream",
     "text": [
      "We will be optimising hardness over the range 0.1 to 4.9 inclusive with interval 0.2\n",
      "The optimal hardness parameter from the 5-fold cross-validation is  4.1000000000000005\n"
     ]
    }
   ],
   "source": [
    "print('We will be optimising hardness over the range 0.1 to 4.9 inclusive with interval 0.2')\n",
    "hardness_range= np.arange(0.1, 5.1, 0.2)\n",
    "train = pd.concat([X_train_df, y_train_df], axis=1) #compiling training set for SVM\n",
    "train_scores_mean, val_scores_mean  = choose_best_hardness(train, folds_indexes, hardness_range) #run cross validation over hardness range\n",
    "print('The optimal hardness parameter from the 5-fold cross-validation is ', hardness_range[np.argmax(val_scores_mean)])"
   ]
  },
  {
   "cell_type": "code",
   "execution_count": 133,
   "metadata": {},
   "outputs": [],
   "source": [
    "w =[] \n",
    "scores = []\n",
    "for i, k in enumerate(hardness_range):\n",
    "    #get weights of the SVM for different hardness strength\n",
    "    w.append(sgd(X_train, y_train_float, max_iterations=2000, stop_criterion=0.01, learning_rate=1e-5, hardness_strength=k, print_outcome=False))\n",
    "    scores.append(score(w[i], X_train, y_train_float)) #accuracy in prediction for different hardness strength"
   ]
  },
  {
   "cell_type": "code",
   "execution_count": 134,
   "metadata": {},
   "outputs": [
    {
     "data": {
      "image/png": "[encoded data removed]",
      "text/plain": [
       "<Figure size 432x288 with 1 Axes>"
      ]
     },
     "metadata": {
      "needs_background": "light"
     },
     "output_type": "display_data"
    }
   ],
   "source": [
    "plt.plot(hardness_range, scores)\n",
    "plt.ylabel('Accuracy on whole balanced train set', size=10)\n",
    "plt.xlabel('hardness hyper-parameter', size=10)\n",
    "plt.title('For model trained on balanced dataset', size=15);"
   ]
  },
  {
   "cell_type": "markdown",
   "metadata": {},
   "source": [
    "The above curve follows the same general trend as for the unbalanced data set but fluctuates more. This is solely because the balanced training set (800 points) has around 3 times fewer values than the unbalanced data set (2566 points), hence our balanced model wasn't able to be trained well."
   ]
  },
  {
   "cell_type": "code",
   "execution_count": 135,
   "metadata": {},
   "outputs": [],
   "source": [
    "w =[] \n",
    "scores = []\n",
    "for i, k in enumerate(hardness_range):\n",
    "    #get weights of the SVM for different hardness strength\n",
    "    w.append(sgd(X_train, y_train_float, max_iterations=2000, stop_criterion=0.01, learning_rate=1e-5, hardness_strength=k, print_outcome=False))\n",
    "    scores.append(score(w[i], X_test, y_test_float)) #accuracy in prediction for different hardness strength"
   ]
  },
  {
   "cell_type": "code",
   "execution_count": 136,
   "metadata": {},
   "outputs": [
    {
     "data": {
      "image/png": "[encoded data removed]",
      "text/plain": [
       "<Figure size 432x288 with 1 Axes>"
      ]
     },
     "metadata": {
      "needs_background": "light"
     },
     "output_type": "display_data"
    }
   ],
   "source": [
    "plt.plot(hardness_range, scores)\n",
    "plt.ylabel('Accuracy on test set', size=10)\n",
    "plt.xlabel('hardness hyper-parameter', size=10)\n",
    "plt.title('For model trained on balanced dataset', size=15);"
   ]
  },
  {
   "cell_type": "markdown",
   "metadata": {},
   "source": [
    "This is interesting. Unlike when the model is trained on the unbalanced data set where the accuracy for test set keeps increasing with increasing hardness, here for model trained on balanced datset the accuracy on test set decreases overall for increasing hardness. This suggests that the balanced dataset is less seperable than the unbalanced dataset. Hence when we incrase the hardness, the margin in the SVM becomes smaller ('harder'), making the model prone to over-fitting or being too senstive to outliers.\n",
    "\n",
    "Hence at the optimal penalty the model is overfitting to the train set and underfitting to the test set. We should change our optimal penalty to a lower penalty. The ROC curve confirms this."
   ]
  },
  {
   "cell_type": "code",
   "execution_count": 137,
   "metadata": {},
   "outputs": [],
   "source": [
    "tpr, fpr = np.zeros(len(w)), np.zeros(len(w))\n",
    "for i, k in enumerate(w):\n",
    "    new_ypred = np.array(np.sign(X_test @ k)) #gets predictions based on sample weights of each model\n",
    "    tpr[i], fpr[i] = roc_curve(y_test, new_ypred) #plot ROC curve for each model"
   ]
  },
  {
   "cell_type": "code",
   "execution_count": 138,
   "metadata": {},
   "outputs": [
    {
     "data": {
      "image/png": "[encoded data removed]",
      "text/plain": [
       "<Figure size 864x576 with 1 Axes>"
      ]
     },
     "metadata": {
      "needs_background": "light"
     },
     "output_type": "display_data"
    }
   ],
   "source": [
    "#plotting the ROC\n",
    "plt.figure(figsize=(12,8))\n",
    "plt.plot(fpr, tpr, 'o')\n",
    "plt.ylabel('TPR', size=20)\n",
    "plt.xlabel('FPR', size=20)\n",
    "plt.title(f\"Receiver Operating Curve\", size=20)\n",
    "plt.plot([0, 1], [0, 1],'r--')\n",
    "plt.xlim([0, 1])\n",
    "plt.ylim([0, 1])\n",
    "plt.show()"
   ]
  },
  {
   "cell_type": "code",
   "execution_count": 139,
   "metadata": {
    "scrolled": true
   },
   "outputs": [
    {
     "data": {
      "image/png": "[encoded data removed]",
      "text/plain": [
       "<Figure size 720x504 with 1 Axes>"
      ]
     },
     "metadata": {
      "needs_background": "light"
     },
     "output_type": "display_data"
    }
   ],
   "source": [
    "#Zooming into ROC to area of interest and adding hardness hyper-parameter labels\n",
    "fig, ax = plt.subplots(figsize=(10, 7))\n",
    "ax.scatter(fpr, tpr, marker='o', alpha=0.3)\n",
    "plt.ylabel('TPR', size=10)\n",
    "plt.xlabel('FPR', size=10)\n",
    "plt.title(f\"Receiver Operating Curve of different models optimised over labelled hardness \\n\", size=15)\n",
    "plt.plot([0, 1], [0, 1],'r--')\n",
    "plt.xlim([min(fpr), max(fpr)]) # adjust to zoom into area of interest\n",
    "plt.ylim([0.99, 1]) # adjust to zoom into area of interest\n",
    "for i, txt in enumerate(hardness_range):\n",
    "    ax.annotate(round(txt, 7), (fpr[i], tpr[i]), fontsize=30)\n",
    "plt.show()"
   ]
  },
  {
   "cell_type": "markdown",
   "metadata": {},
   "source": [
    "In the above ROC curve, the highest TPR and lowest FPR occurs at the hardness of 0.1, hence this is optimal hardness from the ROC curve.\n",
    "\n",
    "The cross-validation hardness for the balanced train set model gave the optimal hardness to be 4.1. We can that even though the TPR of hardness 0.1 and 4.1 (~1) are the same from the ROC, the FPR is higher by ~0.03 for the hardness of 4.7. Hence the ROC optimal hardness of 0.1 is better than that of the cross-validation.\n",
    "\n",
    "The model trained on a balanced dataset is worse because at the optimal hardness the TPR is higher by only ~0.01 compared to optimal from the model trained on unbalanced data, however, the FPR is lower by ~0.12 (greater than 10x the increase in TPR). Hence I will use the unbalanced data trained model in the context of identifying malignant tumours. I believe a higher TPR is more important than a lower FPR in general but not by the proportions described. "
   ]
  }
 ],
 "metadata": {
  "colab": {
   "collapsed_sections": [],
   "name": "SurnameCID_CW1.ipynb",
   "provenance": []
  },
  "kernelspec": {
   "display_name": "Python 3 (ipykernel)",
   "language": "python",
   "name": "python3"
  },
  "language_info": {
   "codemirror_mode": {
    "name": "ipython",
    "version": 3
   },
   "file_extension": ".py",
   "mimetype": "text/x-python",
   "name": "python",
   "nbconvert_exporter": "python",
   "pygments_lexer": "ipython3",
   "version": "3.9.7"
  }
 },
 "nbformat": 4,
 "nbformat_minor": 1
}
